{
 "cells": [
  {
   "cell_type": "code",
   "execution_count": 2,
   "id": "b632266f",
   "metadata": {},
   "outputs": [
    {
     "name": "stdout",
     "output_type": "stream",
     "text": [
      "hello\n",
      "world\n",
      " he is called \"venu\" \n",
      " he is called 'venu' \n",
      "it's alright\n",
      "hello\n",
      "world\n",
      " he is called \"venu\" \n",
      " he is called 'venu' \n",
      " he is called 'venu' \n",
      "hello world  he is called \"venu\"   he is called 'venu'  it's alright\n"
     ]
    }
   ],
   "source": [
    "# string  data type \n",
    "\n",
    "a = \"hello\"\n",
    "b = 'world'\n",
    "c = ''' he is called \"venu\" '''\n",
    "d = \" he is called 'venu' \"\n",
    "e = \"it's alright\"\n",
    "print(a)\n",
    "print(b)\n",
    "print(c)\n",
    "print(d)\n",
    "print(e)\n",
    "\n",
    "print(\"hello\")\n",
    "print('world')\n",
    "print(''' he is called \"venu\" ''')\n",
    "print(\" he is called 'venu' \")\n",
    "print(\" he is called 'venu' \")\n",
    "\n",
    "print(a,b,c,d,e)"
   ]
  },
  {
   "cell_type": "code",
   "execution_count": 11,
   "id": "77cb34b0",
   "metadata": {},
   "outputs": [
    {
     "name": "stdout",
     "output_type": "stream",
     "text": [
      "hello world\n",
      "helloworld\n",
      "hello world\n",
      "hello world\n"
     ]
    }
   ],
   "source": [
    "# concatetions\n",
    "a = \"hello\"\n",
    "b = \"world\"\n",
    "c = a + \" \" + b\n",
    "print(c)\n",
    "\n",
    "a = \"hello\"\n",
    "b = 'world'\n",
    "c = a + b\n",
    "print(c)\n",
    "\n",
    "a = 'hello'\n",
    "b = \"world\"\n",
    "c = a + \" \" + b\n",
    "print(c)\n",
    "\n",
    "a = 'hello'\n",
    "b = 'world'\n",
    "c = a + ' ' + b\n",
    "print(c)\n"
   ]
  },
  {
   "cell_type": "code",
   "execution_count": 17,
   "id": "13506644",
   "metadata": {},
   "outputs": [
    {
     "name": "stdout",
     "output_type": "stream",
     "text": [
      "venu,nani,mohan,venu,nani,mohan,venu,nani,mohan,venu,nani,mohan,venu,nani,mohan,\n",
      "venu.nani.mohan.venu.nani.mohan.venu.nani.mohan.venu.nani.mohan.venu.nani.mohan.\n",
      "venu,nani,mohan,venu,nani,mohan,venu,nani,mohan,venu,nani,mohan,venu,nani,mohan,\n",
      "venu,nani,nani,venu,nani,nani,venu,nani,nani,venu,nani,nani,venu,nani,nani,\n",
      "venu,nani,mohan,venu,nani,mohan,venu,nani,mohan,venu,nani,mohan,venu,nani,mohan,\n"
     ]
    }
   ],
   "source": [
    "# repetition\n",
    "str1 = \"venu,\"\n",
    "str2 = \"nani,\"\n",
    "str3 = \"mohan,\"\n",
    "result = (str1 + str2 + str3)\n",
    "print(result * 5)\n",
    "\n",
    "str1 = \"venu.\"\n",
    "str2 = \"nani.\"\n",
    "str3 = \"mohan.\"\n",
    "result = (str1 + str2 + str3)\n",
    "print(result * 5)\n",
    "\n",
    "str1 = 'venu,'\n",
    "str2 = 'nani,'\n",
    "str3 = 'mohan,'\n",
    "result = (str1 + str2 + str3)\n",
    "print(result * 5)\n",
    "\n",
    "str1 = '''venu,'''\n",
    "str2 = '''nani,'''\n",
    "str3 = '''nani,'''\n",
    "result = (str1 + str2 + str3)\n",
    "print(result * 5)\n",
    "\n",
    "str1 = \"\"\"venu,\"\"\"\n",
    "str2 = \"\"\"nani,\"\"\"\n",
    "str3 = \"\"\"mohan,\"\"\"\n",
    "result = (str1 + str2 + str3)\n",
    "print(result * 5)"
   ]
  },
  {
   "cell_type": "code",
   "execution_count": 24,
   "id": "89b3da8b",
   "metadata": {},
   "outputs": [
    {
     "ename": "TypeError",
     "evalue": "can only concatenate str (not \"int\") to str",
     "output_type": "error",
     "traceback": [
      "\u001b[1;31m---------------------------------------------------------------------------\u001b[0m",
      "\u001b[1;31mTypeError\u001b[0m                                 Traceback (most recent call last)",
      "Cell \u001b[1;32mIn[24], line 4\u001b[0m\n\u001b[0;32m      1\u001b[0m \u001b[38;5;66;03m# string format()\u001b[39;00m\n\u001b[0;32m      3\u001b[0m age \u001b[38;5;241m=\u001b[39m \u001b[38;5;241m36\u001b[39m\n\u001b[1;32m----> 4\u001b[0m txt \u001b[38;5;241m=\u001b[39m \u001b[38;5;124m\"\u001b[39m\u001b[38;5;124mmy name is venu, i am \u001b[39m\u001b[38;5;124m\"\u001b[39m\u001b[38;5;241m+\u001b[39m age\n\u001b[0;32m      5\u001b[0m \u001b[38;5;28mprint\u001b[39m(txt)\n",
      "\u001b[1;31mTypeError\u001b[0m: can only concatenate str (not \"int\") to str"
     ]
    }
   ],
   "source": [
    "# string format()\n",
    "\n",
    "age = 36\n",
    "txt = \"my name is venu, i am \"+ age\n",
    "print(txt)"
   ]
  },
  {
   "cell_type": "code",
   "execution_count": 26,
   "id": "12fe063e",
   "metadata": {},
   "outputs": [
    {
     "name": "stdout",
     "output_type": "stream",
     "text": [
      "my name is venu ,i am  35 \n",
      "the price is 57 dollars \n",
      "the price is 90.00 dollars \n",
      "the price is 1180 dollars \n"
     ]
    }
   ],
   "source": [
    "age = 35\n",
    "txt = f\"my name is venu ,i am  {age} \"\n",
    "print(txt)\n",
    "\n",
    "price = 57\n",
    "txt = f\"the price is {price} dollars \"\n",
    "print(txt)\n",
    "\n",
    "price = 90\n",
    "txt = f\"the price is {price:.2f} dollars \"\n",
    "print(txt)\n",
    "\n",
    "\n",
    "txt = f\"the price is {20 * 59} dollars \"\n",
    "print(txt)\n",
    "\n"
   ]
  },
  {
   "cell_type": "code",
   "execution_count": 28,
   "id": "7f44917c",
   "metadata": {},
   "outputs": [
    {
     "name": "stdout",
     "output_type": "stream",
     "text": [
      "6\n",
      "1\n",
      "7\n"
     ]
    }
   ],
   "source": [
    "# index \n",
    "a = \"hello,welcome to my world.\"\n",
    "x = a.index (\"welcome\")\n",
    "print(x)\n",
    "\n",
    "\n",
    "a = \"hello,welcome to my world.\"\n",
    "x = a.index (\"e\")\n",
    "print(x)\n",
    "\n",
    "a = \"hello,welcome to my world.\"\n",
    "x = a.index (\"e\" , 5, 10)\n",
    "print(x)\n",
    "\n"
   ]
  },
  {
   "cell_type": "code",
   "execution_count": 30,
   "id": "936ec32a",
   "metadata": {},
   "outputs": [
    {
     "name": "stdout",
     "output_type": "stream",
     "text": [
      "ell\n",
      "\n",
      "hell\n",
      " ,\n",
      "w\n",
      "llo , \n"
     ]
    }
   ],
   "source": [
    "# slicing\n",
    "\n",
    "b = \" hello , world\"\n",
    "print(b [2:5])\n",
    "print(b [-1:5])\n",
    "print(b [1:5])\n",
    "print(b [6:8])\n",
    "print(b [9:10])\n",
    "print(b [3:9])\n",
    "\n"
   ]
  },
  {
   "cell_type": "code",
   "execution_count": 36,
   "id": "7e0dbf67",
   "metadata": {},
   "outputs": [
    {
     "name": "stdout",
     "output_type": "stream",
     "text": [
      "25\n",
      "25\n",
      "25\n",
      "25\n",
      "25\n"
     ]
    }
   ],
   "source": [
    "# string length\n",
    "\n",
    "a = \"this is a python program \"\n",
    "print(len(a))\n",
    "\n",
    "h = \"this is a python program \"\n",
    "print(len(h))\n",
    "\n",
    "n = \"this is a python program \"\n",
    "print(len(n))\n",
    "\n",
    "y = \"this is a python program \"\n",
    "print(len(y))\n",
    "\n",
    "s = \"this is a python program \"\n",
    "print(len(s))\n",
    "\n"
   ]
  },
  {
   "cell_type": "code",
   "execution_count": 38,
   "id": "d6f24327",
   "metadata": {},
   "outputs": [
    {
     "name": "stdout",
     "output_type": "stream",
     "text": [
      "NAME IS VENUGOPAL\n",
      "name is venugopal\n"
     ]
    }
   ],
   "source": [
    "# upper cases\n",
    "\n",
    "a = \"name is venugopal\"\n",
    "print(a.upper())\n",
    "\n",
    "#lower cases \n",
    "b = \"this is a notebook \"\n",
    "print(a.lower())\n"
   ]
  },
  {
   "cell_type": "code",
   "execution_count": 45,
   "id": "26925c61",
   "metadata": {},
   "outputs": [
    {
     "name": "stdout",
     "output_type": "stream",
     "text": [
      "hello, world!\n",
      "hello, world!\n",
      "hello, world!\n"
     ]
    }
   ],
   "source": [
    "# remove whitespace\n",
    "a =\" hello, world! \"\n",
    "print(a.strip())\n",
    "\n",
    "a = ' hello, world! '\n",
    "print(a.strip())\n",
    "\n",
    "a =\" hello,\"\" world! \"\n",
    "print(a.strip())\n"
   ]
  },
  {
   "cell_type": "code",
   "execution_count": 46,
   "id": "2f8bc792",
   "metadata": {},
   "outputs": [
    {
     "name": "stdout",
     "output_type": "stream",
     "text": [
      "jello ,world!\n",
      "hello ,wobld!\n",
      "hevvo ,worvd!\n",
      "hello ,gorld!\n"
     ]
    }
   ],
   "source": [
    "# replace()\n",
    "a = \"hello ,world!\"\n",
    "print(a.replace(\"h\",\"j\"))\n",
    "\n",
    "a = \"hello ,world!\"\n",
    "print(a.replace(\"r\",\"b\"))\n",
    "\n",
    "a = \"hello ,world!\"\n",
    "print(a.replace(\"l\",\"v\"))\n",
    "\n",
    "a = \"hello ,world!\"\n",
    "print(a.replace(\"w\",\"g\"))\n"
   ]
  },
  {
   "cell_type": "code",
   "execution_count": 54,
   "id": "b6f32f47",
   "metadata": {},
   "outputs": [
    {
     "name": "stdout",
     "output_type": "stream",
     "text": [
      "['my', 'name', 'is', 'venugopal']\n",
      "['apple', ' banna', ' cherry']\n",
      "[' hello', ' world! ']\n"
     ]
    }
   ],
   "source": [
    "# split string()\n",
    "a = \"my name is venugopal\"\n",
    "x = (a.split())\n",
    "print(x)\n",
    "\n",
    "a = \"apple, banna, cherry\"\n",
    "print(a.rsplit(\",\"))\n",
    "\n",
    "a = \" hello, world! \"\n",
    "print(a.split(\",\"))\n",
    "\n",
    "\n",
    "\n"
   ]
  },
  {
   "cell_type": "code",
   "execution_count": 56,
   "id": "098ae5ee",
   "metadata": {},
   "outputs": [
    {
     "name": "stdout",
     "output_type": "stream",
     "text": [
      "venu#nani#mani#mohan\n",
      "venu%nani%mani%mohan\n",
      "venu*nani*mani*mohan\n"
     ]
    }
   ],
   "source": [
    "# join string\n",
    "\n",
    "a =( \"venu\",\"nani\",\"mani\",\"mohan\")\n",
    "\n",
    "x = \"#\".join(a)\n",
    "print(x)\n",
    "\n",
    "\n",
    "\n",
    "a =( \"venu\",\"nani\",\"mani\",\"mohan\")\n",
    "\n",
    "x = \"%\".join(a)\n",
    "print(x)\n",
    "\n",
    "\n",
    "a =( \"venu\",\"nani\",\"mani\",\"mohan\")\n",
    "\n",
    "x = \"*\".join(a)\n",
    "print(x)\n",
    "\n",
    "\n",
    "\n"
   ]
  },
  {
   "cell_type": "code",
   "execution_count": 58,
   "id": "be520aee",
   "metadata": {
    "scrolled": true
   },
   "outputs": [
    {
     "name": "stdout",
     "output_type": "stream",
     "text": [
      "8\n",
      "1\n",
      "19\n",
      "22\n"
     ]
    }
   ],
   "source": [
    "# fina string\n",
    "a = \" hello, welcome to my world\"\n",
    "x = a.find(\"welcome\")\n",
    "print(x)\n",
    "\n",
    "a = \" hello, welcome to my world\"\n",
    "x = a.find(\"hello\")\n",
    "print(x)\n",
    "\n",
    "\n",
    "a = \" hello, welcome to my world\"\n",
    "x = a.find(\"my\")\n",
    "print(x)\n",
    "\n",
    "a = \" hello, welcome to my world\"\n",
    "x = a.find(\"world\")\n",
    "print(x)\n"
   ]
  },
  {
   "cell_type": "code",
   "execution_count": null,
   "id": "7b7d6a53",
   "metadata": {},
   "outputs": [],
   "source": []
  }
 ],
 "metadata": {
  "kernelspec": {
   "display_name": "Python 3 (ipykernel)",
   "language": "python",
   "name": "python3"
  },
  "language_info": {
   "codemirror_mode": {
    "name": "ipython",
    "version": 3
   },
   "file_extension": ".py",
   "mimetype": "text/x-python",
   "name": "python",
   "nbconvert_exporter": "python",
   "pygments_lexer": "ipython3",
   "version": "3.11.5"
  }
 },
 "nbformat": 4,
 "nbformat_minor": 5
}
