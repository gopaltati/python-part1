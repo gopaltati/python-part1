{
 "cells": [
  {
   "cell_type": "code",
   "execution_count": 23,
   "id": "76d9dc85",
   "metadata": {},
   "outputs": [
    {
     "name": "stdout",
     "output_type": "stream",
     "text": [
      "('apple', 'banna', 'cherrry')\n",
      "('apple', 'banna', 'cherrry', 'apple', 'cherry')\n",
      "<class 'tuple'>\n",
      "<class 'tuple'>\n",
      "('apple ', 'bananaa', 'cherry')\n",
      "(1, 2, 3, 4, 5, 6, 7, 8, 9)\n",
      "(True, False, False)\n",
      "('abc', 34, True, 46, 'male')\n"
     ]
    }
   ],
   "source": [
    "# python tuples datatype\n",
    "\n",
    "thistuple = (\"apple\",\"banna\", \"cherrry\")\n",
    "print(thistuple)\n",
    "\n",
    "thistuple = (\"apple\",\"banna\", \"cherrry\",\"apple\",\"cherry\")\n",
    "print(thistuple)\n",
    "\n",
    "thistuple = (\"apple\",)\n",
    "print(type(thistuple))\n",
    "\n",
    "# not a tuple\n",
    "\n",
    "thistuple = (\"apple\",)\n",
    "print(type(thistuple))\n",
    "\n",
    "# data items data type\n",
    "tuple1 = (\"apple \",\"bananaa\",\"cherry\")\n",
    "tuple2 = (1,2,3,4,5,6,7,8,9)\n",
    "tuple3 = (True , False , False)\n",
    "\n",
    "print(tuple1)\n",
    "print(tuple2)\n",
    "print(tuple3)\n",
    "\n",
    "tuple = (\"abc\",34,True, 46,\"male\")\n",
    "print(tuple)\n",
    "\n"
   ]
  },
  {
   "cell_type": "code",
   "execution_count": 29,
   "id": "83f24cba",
   "metadata": {},
   "outputs": [
    {
     "name": "stdout",
     "output_type": "stream",
     "text": [
      "('apple', 'banna', 'cherrry')\n",
      "(1, 2, 3, 4, 5, 6, 7, 8)\n",
      "('v', 'e', 'n', 'u', 1, 2, 3, 4, 5, 6, 8, 0, 9, 1, 2, 3, 4, 5, 6, 8, 0, 9, 1, 2, 3, 4, 5, 6, 8, 0, 9, 1, 2, 3, 4, 5, 6, 8, 0, 9, 1, 2, 3, 4, 5, 6, 8, 0, 9)\n"
     ]
    }
   ],
   "source": [
    "# constructor() tuple\n",
    "\n",
    "thistuple = (\"apple\",\"banna\", \"cherrry\")\n",
    "print(thistuple)\n",
    "\n",
    "thistuple2 = (1,2,3,4,5,6,7,8)\n",
    "print(thistuple2)\n",
    "\n",
    "\n",
    "#repetition()tuple\n",
    "\n",
    "\n",
    "tuple1 = (\"v\",\"e\",\"n\",\"u\",)\n",
    "tuple2 = (1,2,3,4,5,6,8,0,9,)\n",
    "result=tuple1+tuple2*5\n",
    "print(result)\n"
   ]
  },
  {
   "cell_type": "code",
   "execution_count": 30,
   "id": "379b48b0",
   "metadata": {},
   "outputs": [
    {
     "name": "stdout",
     "output_type": "stream",
     "text": [
      "banna\n",
      "apple\n",
      "cherrry\n",
      "cherrry\n"
     ]
    }
   ],
   "source": [
    "# access tuple()\n",
    "thistuple = (\"apple\",\"banna\", \"cherrry\")\n",
    "print(thistuple[1]) \n",
    "\n",
    "thistuple = (\"apple\",\"banna\", \"cherrry\")\n",
    "print(thistuple[0])\n",
    "\n",
    "thistuple = (\"apple\",\"banna\", \"cherrry\")\n",
    "print(thistuple[2])\n",
    "\n",
    "thistuple = (\"apple\",\"banna\", \"cherrry\")\n",
    "print(thistuple[-1])\n"
   ]
  },
  {
   "cell_type": "code",
   "execution_count": 31,
   "id": "53bbd09d",
   "metadata": {},
   "outputs": [
    {
     "name": "stdout",
     "output_type": "stream",
     "text": [
      "('banana', 'orange', 'kiwi')\n",
      "('orange', 'kiwi')\n",
      "()\n",
      "('cherry', 'banana', 'orange', 'kiwi')\n",
      "('apple', 'cherry', 'banana', 'orange', 'kiwi', 'melon', 'mango')\n",
      "('orange', 'kiwi')\n",
      "('kiwi',)\n",
      "('orange', 'kiwi', 'melon', 'mango')\n"
     ]
    }
   ],
   "source": [
    "# index\n",
    "thistuple = (\"apple\",\"cherry\",\"banana\",\"orange\",\"kiwi\",\"melon\",\"mango\")\n",
    "print(thistuple[2:5])\n",
    "print(thistuple[3:5])\n",
    "print(thistuple[-1:5])\n",
    "print(thistuple[1:5])\n",
    "print(thistuple[0:])\n",
    "print(thistuple[3:5])\n",
    "print(thistuple[4:5])\n",
    "print(thistuple[3:7])\n"
   ]
  },
  {
   "cell_type": "code",
   "execution_count": 32,
   "id": "37831639",
   "metadata": {},
   "outputs": [
    {
     "ename": "TypeError",
     "evalue": "'tuple' object is not callable",
     "output_type": "error",
     "traceback": [
      "\u001b[1;31m---------------------------------------------------------------------------\u001b[0m",
      "\u001b[1;31mTypeError\u001b[0m                                 Traceback (most recent call last)",
      "Cell \u001b[1;32mIn[32], line 6\u001b[0m\n\u001b[0;32m      4\u001b[0m y \u001b[38;5;241m=\u001b[39m \u001b[38;5;28mlist\u001b[39m(x)\n\u001b[0;32m      5\u001b[0m y \u001b[38;5;241m=\u001b[39m \u001b[38;5;124m\"\u001b[39m\u001b[38;5;124mkiwi\u001b[39m\u001b[38;5;124m\"\u001b[39m\n\u001b[1;32m----> 6\u001b[0m x \u001b[38;5;241m=\u001b[39m\u001b[38;5;28mtuple\u001b[39m(y)\n\u001b[0;32m      7\u001b[0m \u001b[38;5;28mprint\u001b[39m(x)\n",
      "\u001b[1;31mTypeError\u001b[0m: 'tuple' object is not callable"
     ]
    }
   ],
   "source": [
    "# unchangeable or immutable\n",
    "\n",
    "x = (\" apple\",\"banana\",\"cherry\")\n",
    "y = list(x)\n",
    "y = \"kiwi\"\n",
    "x =tuple(y)\n",
    "print(x)"
   ]
  },
  {
   "cell_type": "code",
   "execution_count": 33,
   "id": "a0eea717",
   "metadata": {
    "scrolled": true
   },
   "outputs": [
    {
     "ename": "TypeError",
     "evalue": "'tuple' object is not callable",
     "output_type": "error",
     "traceback": [
      "\u001b[1;31m---------------------------------------------------------------------------\u001b[0m",
      "\u001b[1;31mTypeError\u001b[0m                                 Traceback (most recent call last)",
      "Cell \u001b[1;32mIn[33], line 4\u001b[0m\n\u001b[0;32m      2\u001b[0m y \u001b[38;5;241m=\u001b[39m \u001b[38;5;28mlist\u001b[39m(thistuple)\n\u001b[0;32m      3\u001b[0m y\u001b[38;5;241m.\u001b[39mappend(\u001b[38;5;124m\"\u001b[39m\u001b[38;5;124morange\u001b[39m\u001b[38;5;124m\"\u001b[39m)\n\u001b[1;32m----> 4\u001b[0m thistuple \u001b[38;5;241m=\u001b[39m\u001b[38;5;28mtuple\u001b[39m(y)\n\u001b[0;32m      5\u001b[0m \u001b[38;5;28mprint\u001b[39m(thistuple)\n",
      "\u001b[1;31mTypeError\u001b[0m: 'tuple' object is not callable"
     ]
    }
   ],
   "source": [
    "thistuple = (\" apple\",\"banana\",\"cherry\")\n",
    "y = list(thistuple)\n",
    "y.append(\"orange\")\n",
    "thistuple =tuple(y)\n",
    "print(thistuple)"
   ]
  },
  {
   "cell_type": "code",
   "execution_count": 2,
   "id": "dda92f8a",
   "metadata": {},
   "outputs": [
    {
     "name": "stdout",
     "output_type": "stream",
     "text": [
      " apple\n",
      "banana\n",
      "cherry\n",
      " apple\n",
      "banana\n",
      "cherry\n"
     ]
    }
   ],
   "source": [
    "# loop throught a tuples()\n",
    "\n",
    "thistuple = (\" apple\",\"banana\",\"cherry\")\n",
    "for x in thistuple:\n",
    "    print(x)\n",
    "    \n",
    "thistuple = (\" apple\",\"banana\",\"cherry\")\n",
    "for i in  range (len(thistuple)):\n",
    "    print(thistuple[i])    \n",
    "    \n",
    "    \n",
    "    "
   ]
  },
  {
   "cell_type": "code",
   "execution_count": 22,
   "id": "10fa6271",
   "metadata": {},
   "outputs": [
    {
     "name": "stdout",
     "output_type": "stream",
     "text": [
      "('a', 'b', 'c', 1, 2, 3, 4, 5)\n",
      "('apple', 'cherry', 'banana', 'apple', 'cherry', 'banana')\n",
      "0\n",
      "0\n",
      "2\n",
      "1\n",
      "1\n",
      "3\n",
      "2\n",
      "1\n",
      "9\n",
      "5\n",
      "7\n",
      "6\n",
      "0\n",
      "8\n",
      "7\n",
      "3\n",
      "7\n",
      "True\n",
      "False\n",
      "False\n",
      "True\n",
      "(2, 3, 4)\n",
      "(4, 5)\n",
      "(4, 5, 6)\n",
      "(2, 3, 4, 5, 6, 7, 8)\n",
      "(5, 6)\n",
      "(1, 2, 3, 4, 5, 6)\n",
      "10\n",
      "20\n",
      "30\n"
     ]
    }
   ],
   "source": [
    "# methods\n",
    "\n",
    "#join\n",
    "\n",
    "tuple1 = (\"a\",\"b\",\"c\",)\n",
    "tuple2 = (1,2,3,4,5)\n",
    "tuple3 = tuple1 + tuple2\n",
    "print(tuple3)\n",
    "\n",
    "\n",
    "fruits = (\"apple\",\"cherry\",\"banana\")\n",
    "mytuple = fruits *2\n",
    "print(mytuple)\n",
    "\n",
    "\n",
    "# count\n",
    "\n",
    "\n",
    "thistuple = (1,4,6,7,8,9,4,0)\n",
    "x = thistuple.count(5)\n",
    "print(x)\n",
    "x = thistuple.count(2)\n",
    "print(x)\n",
    "x = thistuple.count(4)\n",
    "print(x)\n",
    "x = thistuple.count(1)\n",
    "print(x)\n",
    "\n",
    "x = thistuple.count(6)\n",
    "print(x)\n",
    "\n",
    "# index\n",
    "\n",
    "thistuple = (1,6,7,8,9,4,2,3,0,5,3)\n",
    "x = thistuple.index(8)\n",
    "print(x)\n",
    "x = thistuple.index(7)\n",
    "print(x)\n",
    "x = thistuple.index(6)\n",
    "print(x)\n",
    "x = thistuple.index(5)\n",
    "print(x)\n",
    "x = thistuple.index(4)\n",
    "print(x)\n",
    "x = thistuple.index(3)\n",
    "print(x)\n",
    "x = thistuple.index(2)\n",
    "print(x)\n",
    "x = thistuple.index(1)\n",
    "print(x)\n",
    "x = thistuple.index(0)\n",
    "print(x)\n",
    "\n",
    "# length\n",
    "\n",
    "\n",
    "thistuple = (\"apple\",\"cherry\",\"banana\",\"orange\",\"kiwi\",\"melon\",\"mango\")\n",
    "print(len(thistuple))\n",
    "\n",
    "thistuple = (\" apple\",\"banana\",\"cherry\")\n",
    "print(len(thistuple))\n",
    "\n",
    "thistuple = (\"apple\",\"cherry\",\"banana\",\"orange\",\"kiwi\",\"\",\"mango\")\n",
    "print(len(thistuple))\n",
    "\n",
    "\n",
    "# membership()\n",
    "\n",
    "\n",
    "thistuple = (1,2,3,4,5,6,7,8)\n",
    "print(2 in thistuple)\n",
    "print(9 in thistuple)\n",
    "print(0 in thistuple)\n",
    "print(5 in thistuple)\n",
    "                  \n",
    "# slicing tuples\n",
    "\n",
    "thistuple = (1,2,3,4,5,6,7,8,) \n",
    "print(thistuple[1:4])\n",
    "print(thistuple[3:5])\n",
    "print(thistuple[3:6])\n",
    "print(thistuple[1:])\n",
    "print(thistuple[4:6])\n",
    "\n",
    "# cancatenating tuples\n",
    "tuple1 =(1,2,3)\n",
    "tuple2 =(4,5,6)\n",
    "tuple3 = tuple1+tuple2\n",
    "print(tuple3)\n",
    "\n",
    "\n",
    "#tuple unpacking\n",
    "thistuple =(10,20,30,)\n",
    "a,b,c = thistuple\n",
    "print(a)\n",
    "print(b)\n",
    "print(c)\n"
   ]
  },
  {
   "cell_type": "code",
   "execution_count": null,
   "id": "a8866563",
   "metadata": {},
   "outputs": [],
   "source": []
  }
 ],
 "metadata": {
  "kernelspec": {
   "display_name": "Python 3 (ipykernel)",
   "language": "python",
   "name": "python3"
  },
  "language_info": {
   "codemirror_mode": {
    "name": "ipython",
    "version": 3
   },
   "file_extension": ".py",
   "mimetype": "text/x-python",
   "name": "python",
   "nbconvert_exporter": "python",
   "pygments_lexer": "ipython3",
   "version": "3.11.5"
  }
 },
 "nbformat": 4,
 "nbformat_minor": 5
}
