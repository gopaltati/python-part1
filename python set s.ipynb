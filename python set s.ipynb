{
 "cells": [
  {
   "cell_type": "code",
   "execution_count": 24,
   "id": "d197a233",
   "metadata": {},
   "outputs": [
    {
     "name": "stdout",
     "output_type": "stream",
     "text": [
      "{False, True, 3, 'apple', 'cherry', 'banana'}\n"
     ]
    }
   ],
   "source": [
    "hisset = {\"apple\",\"cherry\",\"banana\", True ,1,3,False}\n",
    "print(thisset)\n"
   ]
  },
  {
   "cell_type": "code",
   "execution_count": 2,
   "id": "7430f4a7",
   "metadata": {},
   "outputs": [
    {
     "name": "stdout",
     "output_type": "stream",
     "text": [
      "{}\n"
     ]
    }
   ],
   "source": [
    "set ={}\n",
    "print(set)"
   ]
  },
  {
   "cell_type": "code",
   "execution_count": 3,
   "id": "dfb7380a",
   "metadata": {
    "scrolled": true
   },
   "outputs": [
    {
     "name": "stdout",
     "output_type": "stream",
     "text": [
      "{'cherry', 'apple', 'banana'}\n"
     ]
    }
   ],
   "source": [
    "set = {\"apple\",\"cherry\",\"banana\",\"apple\"}\n",
    "print(set)"
   ]
  },
  {
   "cell_type": "code",
   "execution_count": 10,
   "id": "b74e46b2",
   "metadata": {
    "scrolled": true
   },
   "outputs": [
    {
     "name": "stdout",
     "output_type": "stream",
     "text": [
      "{1, 3, 'apple', 'cherry', 'banana'}\n"
     ]
    }
   ],
   "source": [
    "thisset = {\"apple\",\"cherry\",\"banana\",1,3,}\n",
    "print(thisset)"
   ]
  },
  {
   "cell_type": "code",
   "execution_count": 13,
   "id": "c47322e8",
   "metadata": {
    "scrolled": true
   },
   "outputs": [
    {
     "name": "stdout",
     "output_type": "stream",
     "text": [
      "{False, True, 3, 'apple', 'cherry', 'banana'}\n"
     ]
    }
   ],
   "source": [
    "thisset = {\"apple\",\"cherry\",\"banana\", True ,1,3,False}\n",
    "print(thisset)"
   ]
  },
  {
   "cell_type": "code",
   "execution_count": 14,
   "id": "ab99ea4b",
   "metadata": {
    "scrolled": true
   },
   "outputs": [
    {
     "name": "stdout",
     "output_type": "stream",
     "text": [
      "6\n"
     ]
    }
   ],
   "source": [
    "thisset = {\"apple\",\"cherry\",\"banana\", True ,1,3,False}\n",
    "print(len(thisset))"
   ]
  },
  {
   "cell_type": "code",
   "execution_count": 16,
   "id": "ff3bd392",
   "metadata": {},
   "outputs": [
    {
     "name": "stdout",
     "output_type": "stream",
     "text": [
      "{'cherry', 'apple', 'banana'}\n",
      "{1, 2, 3, 4, 5, 6, 7, 8}\n",
      "(True, False, False)\n",
      "{False, True, 3, 'apple', 'cherry', 'banana'}\n"
     ]
    }
   ],
   "source": [
    "#data types\n",
    "\n",
    "set1 = {\"apple\",\"cherry\",\"banana\"}\n",
    "set2 = {1,2,3,4,5,6,7,8,}\n",
    "set3 = (True ,False ,False )\n",
    "print(set1)\n",
    "print(set2)\n",
    "print(set3)\n",
    "\n",
    "thisset = {\"apple\",\"cherry\",\"banana\", True ,1,3,False}\n",
    "print(thisset)\n"
   ]
  },
  {
   "cell_type": "code",
   "execution_count": 21,
   "id": "2a70b3c2",
   "metadata": {},
   "outputs": [
    {
     "name": "stdout",
     "output_type": "stream",
     "text": [
      "{'cherry', 'apple', 'banana'}\n",
      "{1, 2, 3, 4, 5, 6, 7, 8}\n",
      "(True, False, False)\n",
      "<class 'set'>\n",
      "<class 'set'>\n",
      "<class 'tuple'>\n"
     ]
    }
   ],
   "source": [
    "# type ()\n",
    "\n",
    "set1 = {\"apple\",\"cherry\",\"banana\"}\n",
    "set2 = {1,2,3,4,5,6,7,8,}\n",
    "set3 = (True ,False ,False )\n",
    "print(set1)\n",
    "print(set2)\n",
    "print(set3)\n",
    "print(type(set1))\n",
    "print(type(set2))\n",
    "print(type(set3))\n"
   ]
  },
  {
   "cell_type": "code",
   "execution_count": 26,
   "id": "91784afb",
   "metadata": {},
   "outputs": [
    {
     "name": "stdout",
     "output_type": "stream",
     "text": [
      "('apple', 'cherry', 'banana', True, 1, 3, False)\n",
      "('apple', 'cherry', 'banana')\n"
     ]
    }
   ],
   "source": [
    "# constructor()\n",
    "thisset = ((\"apple\",\"cherry\",\"banana\", True ,1,3,False))\n",
    "print(thisset)\n",
    "\n",
    "thisset = ((\"apple\",\"cherry\",\"banana\")) \n",
    "print(thisset)\n"
   ]
  },
  {
   "cell_type": "code",
   "execution_count": 30,
   "id": "036a2de6",
   "metadata": {},
   "outputs": [
    {
     "name": "stdout",
     "output_type": "stream",
     "text": [
      "{'cherry', 'orange', 'apple', 'banana'}\n",
      "{'cherry', 2, 'apple', 'banana'}\n",
      "{'cherry', True, 'apple', 'banana'}\n"
     ]
    }
   ],
   "source": [
    "# add ()\n",
    "\n",
    "thisset = {\"apple\",\"cherry\",\"banana\"}\n",
    "thisset.add(\"orange\")\n",
    "print(thisset)\n",
    "\n",
    "thisset = {\"apple\",\"cherry\",\"banana\"}\n",
    "thisset.add(2)\n",
    "print(thisset)\n",
    "\n",
    "thisset = {\"apple\",\"cherry\",\"banana\"}\n",
    "thisset.add(True)\n",
    "print(thisset)\n"
   ]
  },
  {
   "cell_type": "code",
   "execution_count": 36,
   "id": "73dcd484",
   "metadata": {},
   "outputs": [
    {
     "name": "stdout",
     "output_type": "stream",
     "text": [
      "{'mango', 'apple', 'papaya', 'cherry', 'pineapple', 'banana'}\n",
      "{0, 2, 4, 5, 'mango', 7, 8, 9, 'pineapple', 'papaya'}\n",
      "{False, True, 'mango', 'apple', 'cherry', 'banana'}\n"
     ]
    }
   ],
   "source": [
    "# update ()\n",
    "thisset = {\"apple\",\"cherry\",\"banana\"}\n",
    "tropical = {\"pineapple\",\"mango\",\"papaya\"}\n",
    "thisset.update(tropical)         \n",
    "print(thisset)\n",
    "\n",
    "thisset = {2,7,8,9,0,5,4,}\n",
    "tropical = {\"pineapple\",\"mango\",\"papaya\"}\n",
    "thisset.update(tropical)         \n",
    "print(thisset)\n",
    "\n",
    "thisset = {\"apple\",\"cherry\",\"banana\"}\n",
    "tropical = {True,\"mango\",False}\n",
    "thisset.update(tropical)         \n",
    "print(thisset)\n",
    "\n"
   ]
  },
  {
   "cell_type": "code",
   "execution_count": 39,
   "id": "0617a170",
   "metadata": {},
   "outputs": [
    {
     "name": "stdout",
     "output_type": "stream",
     "text": [
      "{'apple', 'banana'}\n",
      "{'cherry', 'banana'}\n"
     ]
    }
   ],
   "source": [
    "# remove(),discard()\n",
    "thisset = {\"apple\",\"cherry\",\"banana\"}\n",
    "thisset.remove(\"cherry\")         \n",
    "print(thisset)\n",
    "\n",
    "thisset = {\"apple\",\"cherry\",\"banana\"}\n",
    "thisset.discard(\"apple\")         \n",
    "print(thisset)"
   ]
  },
  {
   "cell_type": "code",
   "execution_count": 44,
   "id": "55ab0675",
   "metadata": {},
   "outputs": [
    {
     "name": "stdout",
     "output_type": "stream",
     "text": [
      "{True, 3, 'apple', 'cherry', 'banana'}\n",
      "False\n"
     ]
    }
   ],
   "source": [
    "# pop ()\n",
    "\n",
    "thisset = {\"apple\",\"cherry\",\"banana\", True ,1,3,False}\n",
    "x = thisset.pop()\n",
    "print(thisset)\n",
    "print(x)\n",
    "\n"
   ]
  },
  {
   "cell_type": "code",
   "execution_count": 45,
   "id": "422e540e",
   "metadata": {},
   "outputs": [
    {
     "name": "stdout",
     "output_type": "stream",
     "text": [
      "set()\n"
     ]
    }
   ],
   "source": [
    "# clear ()\n",
    "\n",
    "thisset = {\"apple\",\"cherry\",\"banana\"}\n",
    "thisset.clear()\n",
    "print(thisset)"
   ]
  },
  {
   "cell_type": "code",
   "execution_count": 52,
   "id": "51c44fc1",
   "metadata": {},
   "outputs": [
    {
     "name": "stdout",
     "output_type": "stream",
     "text": [
      "{1, 2, 3, 4, 5, 6, 7, 8, 9, 'c', 'd', 'a', 'b'}\n",
      "{'venu', 'c', 'mohan', 'd', 'a', 'nani', 'b', 'mani'}\n",
      "{False, True, 'venu', 3, 'apple', 'cherry', 'mohan', 'nani', 'banana', 'mani'}\n",
      "{False, True, 2, 3, 4, 5, 'apple', 6, 7, 'cherry', 8, 9, 'banana'}\n",
      "{False, True, 'venu', 3, 'apple', 'cherry', 'mohan', 'mani', 'nani', 'banana'}\n",
      "{False, True, 'c', 3, 'apple', 'cherry', 'd', 'a', 'b', 'banana'}\n"
     ]
    }
   ],
   "source": [
    "# union ()\n",
    "\n",
    "set1 = {1,2,3,4,5,6,7,8,9}\n",
    "set2 = {\"a\",\"b\",\"c\",\"d\"}\n",
    "set3 = {\"venu\",\"mani\",\"mohan\",\"nani\"}\n",
    "set4 = {\"apple\",\"cherry\",\"banana\", True ,1,3,False}\n",
    "\n",
    "print(set1 | set2)\n",
    "print(set2 | set3)\n",
    "print(set3 | set4)\n",
    "print(set4 | set1)\n",
    "print(set4 | set3)\n",
    "print(set2 | set4)\n"
   ]
  },
  {
   "cell_type": "code",
   "execution_count": 56,
   "id": "0fe81483",
   "metadata": {},
   "outputs": [
    {
     "name": "stdout",
     "output_type": "stream",
     "text": [
      "{1, 2, 3, 4, 5, 6, 7, 'd', 'a', 'b'}\n",
      "{True, 3}\n",
      "{True, 'venu', 3, 'mohan'}\n",
      "{True, 3}\n",
      "{True, 'venu', 3, 'mohan'}\n",
      "{True, 3}\n"
     ]
    }
   ],
   "source": [
    "#intersection()\n",
    "\n",
    "set1 = {1,2,3,4,5,6,7,8,9,\"a\",\"b\",\"d\"}\n",
    "set2 = {\"a\",\"b\",\"c\",\"d\",1,2,3,4,5,6,7,}\n",
    "set3 = {\"venu\",\"mani\",\"mohan\",\"nani\", True,1,3,}\n",
    "set4 = {\"apple\",\"cherry\",\"banana\", True ,1,3,False,\"venu\",\"mohan\"}\n",
    "\n",
    "print(set1 & set2)\n",
    "print(set2 & set3)\n",
    "print(set3 & set4)\n",
    "print(set4 & set1)\n",
    "print(set4 & set3)\n",
    "print(set2 & set4)"
   ]
  },
  {
   "cell_type": "code",
   "execution_count": 57,
   "id": "71bd1174",
   "metadata": {},
   "outputs": [
    {
     "name": "stdout",
     "output_type": "stream",
     "text": [
      "{8, 9}\n",
      "{2, 'c', 4, 5, 6, 7, 'd', 'a', 'b'}\n",
      "{'nani', 'mani'}\n",
      "{False, 'venu', 'apple', 'cherry', 'mohan', 'banana'}\n",
      "{False, 'cherry', 'apple', 'banana'}\n",
      "{2, 'c', 4, 5, 6, 7, 'd', 'a', 'b'}\n"
     ]
    }
   ],
   "source": [
    "# difference ()\n",
    "\n",
    "set1 = {1,2,3,4,5,6,7,8,9,\"a\",\"b\",\"d\"}\n",
    "set2 = {\"a\",\"b\",\"c\",\"d\",1,2,3,4,5,6,7,}\n",
    "set3 = {\"venu\",\"mani\",\"mohan\",\"nani\", True,1,3,}\n",
    "set4 = {\"apple\",\"cherry\",\"banana\", True ,1,3,False,\"venu\",\"mohan\"}\n",
    "\n",
    "print(set1 - set2)\n",
    "print(set2 - set3)\n",
    "print(set3 - set4)\n",
    "print(set4 - set1)\n",
    "print(set4 - set3)\n",
    "print(set2 - set4)"
   ]
  },
  {
   "cell_type": "code",
   "execution_count": 58,
   "id": "62bf73f2",
   "metadata": {},
   "outputs": [
    {
     "name": "stdout",
     "output_type": "stream",
     "text": [
      "{'c', 8, 9}\n",
      "{2, 'c', 4, 5, 6, 7, 'nani', 'b', 'mani', 'venu', 'mohan', 'd', 'a'}\n",
      "{False, 'apple', 'cherry', 'mani', 'nani', 'banana'}\n",
      "{False, 2, 4, 5, 6, 7, 8, 9, 'venu', 'apple', 'cherry', 'mohan', 'd', 'a', 'b', 'banana'}\n",
      "{False, 'apple', 'cherry', 'nani', 'banana', 'mani'}\n",
      "{False, 'venu', 'c', 2, 4, 'apple', 5, 6, 'cherry', 7, 'mohan', 'd', 'a', 'b', 'banana'}\n"
     ]
    }
   ],
   "source": [
    "# set symmetric()\n",
    "\n",
    "set1 = {1,2,3,4,5,6,7,8,9,\"a\",\"b\",\"d\"}\n",
    "set2 = {\"a\",\"b\",\"c\",\"d\",1,2,3,4,5,6,7,}\n",
    "set3 = {\"venu\",\"mani\",\"mohan\",\"nani\", True,1,3,}\n",
    "set4 = {\"apple\",\"cherry\",\"banana\", True ,1,3,False,\"venu\",\"mohan\"}\n",
    "\n",
    "print(set1 ^ set2)\n",
    "print(set2 ^ set3)\n",
    "print(set3 ^ set4)\n",
    "print(set4 ^ set1)\n",
    "print(set4 ^ set3)\n",
    "print(set2 ^ set4)"
   ]
  },
  {
   "cell_type": "code",
   "execution_count": null,
   "id": "09f610fe",
   "metadata": {},
   "outputs": [],
   "source": []
  }
 ],
 "metadata": {
  "kernelspec": {
   "display_name": "Python 3 (ipykernel)",
   "language": "python",
   "name": "python3"
  },
  "language_info": {
   "codemirror_mode": {
    "name": "ipython",
    "version": 3
   },
   "file_extension": ".py",
   "mimetype": "text/x-python",
   "name": "python",
   "nbconvert_exporter": "python",
   "pygments_lexer": "ipython3",
   "version": "3.11.5"
  }
 },
 "nbformat": 4,
 "nbformat_minor": 5
}
