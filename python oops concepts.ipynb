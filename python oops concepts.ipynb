{
 "cells": [
  {
   "cell_type": "code",
   "execution_count": 2,
   "id": "923563db",
   "metadata": {},
   "outputs": [
    {
     "name": "stdout",
     "output_type": "stream",
     "text": [
      "mammal\n",
      "i'm a mammal\n",
      "i'm a dog\n"
     ]
    }
   ],
   "source": [
    "# python 3 program to\n",
    "# demonstrate  instantitating\n",
    "# a class\n",
    "class Dog:\n",
    "    # a simple class\n",
    "    # atrribute\n",
    "    atrr1 = \"mammal\"\n",
    "    atrr2 = \"dog\"\n",
    "    # a ssmple method\n",
    "    def fun(self):\n",
    "        print(\"i'm a\",self.atrr1)\n",
    "        print(\"i'm a\",self.atrr2)\n",
    "# driver code \n",
    "# object instantiation\n",
    "rodger = Dog()\n",
    "#accessing class atrributes\n",
    "# and method through objects\n",
    "print(rodger.atrr1)\n",
    "rodger.fun()\n"
   ]
  },
  {
   "cell_type": "code",
   "execution_count": 7,
   "id": "c32f6f0c",
   "metadata": {},
   "outputs": [
    {
     "name": "stdout",
     "output_type": "stream",
     "text": [
      "hello, my name is  venugopal\n"
     ]
    }
   ],
   "source": [
    "# sample class with inti method\n",
    "class person:\n",
    "    #init method or constructor\n",
    "    def __init__(self,name):\n",
    "        self.name = name\n",
    "    #sample me(thod\n",
    "    def say_hi(self):\n",
    "        print('hello, my name is ', self.name)\n",
    "        \n",
    "p = person('venugopal')\n",
    "p.say_hi()"
   ]
  },
  {
   "cell_type": "markdown",
   "id": "b9234ab0",
   "metadata": {},
   "source": []
  },
  {
   "cell_type": "code",
   "execution_count": 13,
   "id": "c45b662e",
   "metadata": {},
   "outputs": [
    {
     "name": "stdout",
     "output_type": "stream",
     "text": [
      "hello my name is venugopaland i work in tcs.\n"
     ]
    }
   ],
   "source": [
    "class GHG:\n",
    "    def __init__(somename, name, company):\n",
    "        somename.name  = name\n",
    "        somename.company = company\n",
    "        \n",
    "    def show(somename):\n",
    "        \n",
    "        print(\"hello my name is \" + somename.name + \"and i work in \" + somename.company +\".\")\n",
    "        \n",
    "obj = GHG(\"venugopal\",\"tcs\")\n",
    "obj.show()"
   ]
  },
  {
   "cell_type": "code",
   "execution_count": 20,
   "id": "c8fbe14d",
   "metadata": {},
   "outputs": [
    {
     "name": "stdout",
     "output_type": "stream",
     "text": [
      "<__main__.GHG object at 0x000001CBBA560D90>\n"
     ]
    }
   ],
   "source": [
    "class GHG:\n",
    "    def __init__(self, name, company):\n",
    "        self.name = name\n",
    "        self.company = company\n",
    "        \n",
    "    def __self__(self):\n",
    "        return f\"my name is {self.name} and i work in{self.company}.\"\n",
    "    \n",
    "my_obj = GHG(\"venughopal\",\"tata\")\n",
    "print(my_obj)"
   ]
  },
  {
   "cell_type": "code",
   "execution_count": 21,
   "id": "373772e3",
   "metadata": {},
   "outputs": [
    {
     "name": "stdout",
     "output_type": "stream",
     "text": [
      "rodger details:\n",
      "rodger is a dog\n",
      "breed: pug\n",
      "color: brown\n",
      "\n",
      "buzo details:\n",
      "buzo is a  dog\n",
      "breed: bulldog\n",
      "color: black\n",
      "\n",
      "Accessing class variable using class name\n",
      "dog\n"
     ]
    }
   ],
   "source": [
    "# class for DOG\n",
    "\n",
    "class Dog:\n",
    "    #class variable\n",
    "    animal = 'dog'\n",
    "    # the init method or constructor\n",
    "    def __init__(self, breed, color ):\n",
    "        # instance variable\n",
    "        self.breed = breed\n",
    "        self.color = color\n",
    "# object of dog  class\n",
    "rodger = Dog(\"pug\",\"brown\")\n",
    "buzo = Dog(\"bulldog\",\"black\")\n",
    "\n",
    "print('rodger details:')\n",
    "print('rodger is a', rodger.animal)\n",
    "print('breed:', rodger.breed)\n",
    "print('color:', rodger.color)\n",
    "\n",
    "\n",
    "print('\\nbuzo details:')\n",
    "print('buzo is a ', buzo. animal)\n",
    "print('breed:', buzo.breed)\n",
    "print('color:', buzo.color )\n",
    "\n",
    "# class variables can be  accessed using class\n",
    "# name also\n",
    "print(\"\\nAccessing class variable using class name\")\n",
    "print(Dog.animal)"
   ]
  },
  {
   "cell_type": "code",
   "execution_count": 23,
   "id": "0901c491",
   "metadata": {},
   "outputs": [
    {
     "name": "stdout",
     "output_type": "stream",
     "text": [
      "brown\n"
     ]
    }
   ],
   "source": [
    "# class for dog \n",
    "class Dog:\n",
    "    \n",
    "    # class variable \n",
    "    animal = 'dog'\n",
    "    \n",
    "    # the init method or  constrution\n",
    "    def __init__(self, breed):\n",
    "        \n",
    "        # instance variable \n",
    "        self.breed = breed\n",
    "        \n",
    "        # adds an instance variable \n",
    "    def setcolor(self,color):\n",
    "        self.color = color\n",
    "        \n",
    "        # retrieves instance variable\n",
    "        \n",
    "    def getcolor(self):\n",
    "        return self.color\n",
    "    \n",
    "# driver code\n",
    "rodger = Dog(\"put\")\n",
    "rodger.setcolor(\"brown\")\n",
    "print(rodger.getcolor())\n",
    "        "
   ]
  },
  {
   "cell_type": "code",
   "execution_count": 12,
   "id": "22551f0b",
   "metadata": {},
   "outputs": [
    {
     "name": "stdout",
     "output_type": "stream",
     "text": [
      "venugopal 939\n"
     ]
    }
   ],
   "source": [
    "# inheritance in python \n",
    "\n",
    "# a python  program to demonstrate inherintance \n",
    "\n",
    "class person(object):\n",
    "    \n",
    "    # constructor\n",
    "    def __init__(self, name, id):\n",
    "        \n",
    "        self.name = name\n",
    "        self.id = id\n",
    "        \n",
    "    # to check if this preson is an empoloyee\n",
    "    def Display(self):\n",
    "        print(self.name, self.id)\n",
    "        \n",
    "# driver code\n",
    "emp = person(\"venugopal\", 939 )\n",
    "#an object of person\n",
    "emp.Display()\n"
   ]
  },
  {
   "cell_type": "code",
   "execution_count": 17,
   "id": "4f717451",
   "metadata": {},
   "outputs": [
    {
     "name": "stdout",
     "output_type": "stream",
     "text": [
      "venu 109\n",
      "Emp class called\n"
     ]
    }
   ],
   "source": [
    "class Emp(person):\n",
    "    \n",
    "    def print(self):\n",
    "        \n",
    "        print(\"Emp class called\")\n",
    "        \n",
    "Emp_details = Emp(\"venu\",109)\n",
    "\n",
    "# calling parent class function\n",
    "Emp_details.Display()\n",
    "\n",
    "# calling chilld class function\n",
    "Emp_details.print()\n",
    "    "
   ]
  },
  {
   "cell_type": "code",
   "execution_count": null,
   "id": "7c33cdfb",
   "metadata": {},
   "outputs": [],
   "source": []
  },
  {
   "cell_type": "code",
   "execution_count": 4,
   "id": "d1fd5d80",
   "metadata": {},
   "outputs": [
    {
     "name": "stdout",
     "output_type": "stream",
     "text": [
      "venu1 False\n",
      "venu2 True\n"
     ]
    }
   ],
   "source": [
    "class Person(object):\n",
    "\n",
    "    # Constructor\n",
    "    def __init__(self, name):\n",
    "        self.name = name\n",
    "\n",
    "    # Method to get name\n",
    "    def getName(self):\n",
    "        return self.name\n",
    "\n",
    "    # Method to check if this person is an employee\n",
    "    def isEmployee(self):\n",
    "        return False\n",
    "\n",
    "class Employee(Person):\n",
    "\n",
    "    def isEmployee(self):\n",
    "        return True\n",
    "\n",
    "# Creating a Person object\n",
    "emp = Person(\"venu1\")\n",
    "print(emp.getName(), emp.isEmployee())\n",
    "\n",
    "# Creating an Employee object\n",
    "emp = Employee(\"venu2\")\n",
    "print(emp.getName(), emp.isEmployee())\n"
   ]
  },
  {
   "cell_type": "code",
   "execution_count": 5,
   "id": "1de8dd01",
   "metadata": {},
   "outputs": [
    {
     "name": "stdout",
     "output_type": "stream",
     "text": [
      "9\n",
      "3\n"
     ]
    }
   ],
   "source": [
    "# polymorphic\n",
    "\n",
    "print(len(\"venugopal\"))\n",
    "print(len([10,20,30]))"
   ]
  },
  {
   "cell_type": "code",
   "execution_count": 6,
   "id": "4122fd3a",
   "metadata": {},
   "outputs": [
    {
     "name": "stdout",
     "output_type": "stream",
     "text": [
      "6\n",
      "12\n"
     ]
    }
   ],
   "source": [
    "def add(x,y,z = 0):\n",
    "    \n",
    "    return x + y+z\n",
    "\n",
    "print(add(2,4,))\n",
    "print(add(2,4,6,))\n"
   ]
  },
  {
   "cell_type": "code",
   "execution_count": 8,
   "id": "003f54a1",
   "metadata": {},
   "outputs": [
    {
     "name": "stdout",
     "output_type": "stream",
     "text": [
      "new delhi is the capital od india. \n",
      "hindi is the most widely spoken language of india\n",
      "india is a developing country\n",
      "washington ,d,c is the capital of usa.\n",
      "english is the primary language of usa\n",
      "usa is a developed country.\n"
     ]
    }
   ],
   "source": [
    "class india():\n",
    "    def capital (seif):\n",
    "        print(\"new delhi is the capital od india. \")\n",
    "    def language(self):\n",
    "        print(\"hindi is the most widely spoken language of india\")\n",
    "    def type(seif):\n",
    "        print(\"india is a developing country\")\n",
    "class usa():\n",
    "    def capital(seif):\n",
    "        print(\"washington ,d,c is the capital of usa.\")\n",
    "    def language(self):\n",
    "        print(\"english is the primary language of usa\")\n",
    "    def type(seif):\n",
    "        print(\"usa is a developed country.\")\n",
    "obj_ind = india()\n",
    "obj_usa = usa()\n",
    "for country in (obj_ind,obj_usa): \n",
    "    country.capital()\n",
    "    country.language()\n",
    "    country.type()\n",
    "        "
   ]
  },
  {
   "cell_type": "code",
   "execution_count": 9,
   "id": "082e85cc",
   "metadata": {},
   "outputs": [
    {
     "name": "stdout",
     "output_type": "stream",
     "text": [
      "there are many type of bird\n",
      " most of the birds can fiy but some cannot\n",
      "there are many type of bird\n",
      "ostriches cannnot fiy\n"
     ]
    }
   ],
   "source": [
    "class bird:\n",
    "    def intro(self):\n",
    "        print(\"there are many type of bird\")\n",
    "    def flight(self):\n",
    "        print(\" most of the birds can fiy but some cannot\")\n",
    "class sparrow(bird):\n",
    "    def flight(self):\n",
    "        print(\"sperrow can fly\")\n",
    "        \n",
    "class ostrich(bird):\n",
    "    def flight(self):\n",
    "        print(\"ostriches cannnot fiy\")\n",
    "obj_bird = bird()\n",
    "obj_spr = sparrow()\n",
    "obj_ost = ostrich()\n",
    "\n",
    "obj_bird.intro()\n",
    "obj_bird.flight()\n",
    "\n",
    "obj_ost.intro()\n",
    "obj_ost.flight()"
   ]
  },
  {
   "cell_type": "code",
   "execution_count": 7,
   "id": "740b8390",
   "metadata": {},
   "outputs": [],
   "source": [
    "# encapsulation in pytho"
   ]
  },
  {
   "cell_type": "code",
   "execution_count": 10,
   "id": "f3f4989e",
   "metadata": {},
   "outputs": [
    {
     "name": "stdout",
     "output_type": "stream",
     "text": [
      "venugopal\n",
      "Calling protected member of Base class:\n",
      "Tati\n"
     ]
    }
   ],
   "source": [
    "class Base:\n",
    "    def __init__(self):\n",
    "        self.a = \"venugopal\"\n",
    "        self._c = \"Tati\"  # This is considered a protected member by convention\n",
    "        \n",
    "class Derived(Base):\n",
    "    def __init__(self):\n",
    "        super().__init__()\n",
    "        print(\"Calling protected member of Base class:\")\n",
    "        print(self._c)  # Accessing the protected member using a single underscore\n",
    "        \n",
    "obj1 = Base()\n",
    "print(obj1.a)\n",
    "\n",
    "# Creating an object of the Derived class to see the output of the constructor\n",
    "obj2 = Derived()\n",
    "\n"
   ]
  },
  {
   "cell_type": "code",
   "execution_count": 6,
   "id": "155bf841",
   "metadata": {},
   "outputs": [
    {
     "name": "stdout",
     "output_type": "stream",
     "text": [
      "Calling protected member of base class: 2\n",
      "Calling modified protected member outside class: 2\n",
      "Accessing protected member of obj1: 2\n",
      "Accessing protected member of obj2: 2\n"
     ]
    }
   ],
   "source": [
    "class Base:\n",
    "    def __init__(self):\n",
    "        # protected member\n",
    "        self._a = 2\n",
    "\n",
    "# creating a derived class\n",
    "class Derived(Base):\n",
    "    def __init__(self):\n",
    "        # calling constructor of base class\n",
    "        super().__init__()\n",
    "        print(\"Calling protected member of base class:\", self._a)\n",
    "        print(\"Calling modified protected member outside class:\", self._a)\n",
    "\n",
    "obj1 = Derived()\n",
    "obj2 = Base()\n",
    "\n",
    "print(\"Accessing protected member of obj1:\", obj1._a)\n",
    "print(\"Accessing protected member of obj2:\", obj2._a)\n"
   ]
  },
  {
   "cell_type": "code",
   "execution_count": null,
   "id": "29d6ad56",
   "metadata": {},
   "outputs": [],
   "source": [
    "# abstract method"
   ]
  },
  {
   "cell_type": "code",
   "execution_count": 1,
   "id": "d0f474f4",
   "metadata": {},
   "outputs": [
    {
     "name": "stdout",
     "output_type": "stream",
     "text": [
      "I have 3 sides\n",
      "I have 4 sides\n",
      "I have 5 sides\n",
      "I have 6 sides\n"
     ]
    }
   ],
   "source": [
    "# Python program showing\n",
    "# abstract base class work\n",
    "from abc import ABC, abstractmethod\n",
    "\n",
    "\n",
    "class Polygon(ABC):\n",
    "\n",
    "    @abstractmethod\n",
    "    def noofsides(self):\n",
    "        pass\n",
    "\n",
    "\n",
    "class Triangle(Polygon):\n",
    "\n",
    "    # overriding abstract method\n",
    "    def noofsides(self):\n",
    "        print(\"I have 3 sides\")\n",
    "\n",
    "\n",
    "class Pentagon(Polygon):\n",
    "\n",
    "    # overriding abstract method\n",
    "    def noofsides(self):\n",
    "        print(\"I have 5 sides\")\n",
    "\n",
    "\n",
    "class Hexagon(Polygon):\n",
    "\n",
    "    # overriding abstract method\n",
    "    def noofsides(self):\n",
    "        print(\"I have 6 sides\")\n",
    "\n",
    "\n",
    "class Quadrilateral(Polygon):\n",
    "\n",
    "    # overriding abstract method\n",
    "    def noofsides(self):\n",
    "        print(\"I have 4 sides\")\n",
    "\n",
    "\n",
    "# Driver code\n",
    "R = Triangle()\n",
    "R.noofsides()\n",
    "\n",
    "K = Quadrilateral()\n",
    "K.noofsides()\n",
    "\n",
    "R = Pentagon()\n",
    "R.noofsides()\n",
    "\n",
    "K = Hexagon()\n",
    "K.noofsides()\n"
   ]
  },
  {
   "cell_type": "code",
   "execution_count": 2,
   "id": "6864db28",
   "metadata": {},
   "outputs": [
    {
     "name": "stdout",
     "output_type": "stream",
     "text": [
      "I can walk and run\n",
      "I can crawl\n",
      "I can bark\n",
      "I can roar\n"
     ]
    }
   ],
   "source": [
    "# Python program showing\n",
    "# abstract base class work\n",
    "from abc import ABC, abstractmethod\n",
    "\n",
    "\n",
    "class Animal(ABC):\n",
    "\n",
    "    def move(self):\n",
    "        pass\n",
    "\n",
    "class Human(Animal):\n",
    "\n",
    "    def move(self):\n",
    "        print(\"I can walk and run\")\n",
    "\n",
    "class Snake(Animal):\n",
    "\n",
    "    def move(self):\n",
    "        print(\"I can crawl\")\n",
    "\n",
    "class Dog(Animal):\n",
    "\n",
    "    def move(self):\n",
    "        print(\"I can bark\")\n",
    "\n",
    "class Lion(Animal):\n",
    "\n",
    "    def move(self):\n",
    "        print(\"I can roar\")\n",
    "\n",
    "# Driver code\n",
    "R = Human()\n",
    "R.move()\n",
    "\n",
    "K = Snake()\n",
    "K.move()\n",
    "\n",
    "R = Dog()\n",
    "R.move()\n",
    "\n",
    "K = Lion()\n",
    "K.move()\n"
   ]
  },
  {
   "cell_type": "code",
   "execution_count": 3,
   "id": "4d13a660",
   "metadata": {},
   "outputs": [
    {
     "name": "stdout",
     "output_type": "stream",
     "text": [
      "True\n",
      "True\n"
     ]
    }
   ],
   "source": [
    "# Python program showing\n",
    "# implementation of abstract\n",
    "# class through subclassing\n",
    "import abc\n",
    "\n",
    "class parent:       \n",
    "    def geeks(self):\n",
    "        pass\n",
    "\n",
    "class child(parent):\n",
    "    def geeks(self):\n",
    "        print(\"child class\")\n",
    "\n",
    "# Driver code\n",
    "print( issubclass(child, parent))\n",
    "print( isinstance(child(), parent))\n"
   ]
  },
  {
   "cell_type": "code",
   "execution_count": 4,
   "id": "b33924b0",
   "metadata": {},
   "outputs": [
    {
     "name": "stdout",
     "output_type": "stream",
     "text": [
      "Can't instantiate abstract class parent with abstract method geeks\n",
      "child class\n"
     ]
    }
   ],
   "source": [
    "# Python program showing\n",
    "# abstract properties\n",
    "\n",
    "import abc\n",
    "from abc import ABC, abstractmethod\n",
    "\n",
    "\n",
    "class parent(ABC):\n",
    "    @abc.abstractproperty\n",
    "    def geeks(self):\n",
    "        return \"parent class\"\n",
    "\n",
    "\n",
    "class child(parent):\n",
    "\n",
    "    @property\n",
    "    def geeks(self):\n",
    "        return \"child class\"\n",
    "\n",
    "\n",
    "try:\n",
    "    r = parent()\n",
    "    print(r.geeks)\n",
    "except Exception as err:\n",
    "    print(err)\n",
    "\n",
    "r = child()\n",
    "print(r.geeks)\n"
   ]
  },
  {
   "cell_type": "code",
   "execution_count": null,
   "id": "a2a70745",
   "metadata": {},
   "outputs": [],
   "source": []
  }
 ],
 "metadata": {
  "kernelspec": {
   "display_name": "Python 3 (ipykernel)",
   "language": "python",
   "name": "python3"
  },
  "language_info": {
   "codemirror_mode": {
    "name": "ipython",
    "version": 3
   },
   "file_extension": ".py",
   "mimetype": "text/x-python",
   "name": "python",
   "nbconvert_exporter": "python",
   "pygments_lexer": "ipython3",
   "version": "3.11.5"
  }
 },
 "nbformat": 4,
 "nbformat_minor": 5
}
