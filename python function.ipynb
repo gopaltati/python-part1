{
 "cells": [
  {
   "cell_type": "code",
   "execution_count": 2,
   "id": "938f67d1",
   "metadata": {},
   "outputs": [
    {
     "name": "stdout",
     "output_type": "stream",
     "text": [
      "hello \n"
     ]
    }
   ],
   "source": [
    "def my_function():\n",
    "    print(\"hello \")\n",
    "    \n",
    "my_function()\n"
   ]
  },
  {
   "cell_type": "code",
   "execution_count": 3,
   "id": "70c8bef8",
   "metadata": {},
   "outputs": [
    {
     "name": "stdout",
     "output_type": "stream",
     "text": [
      "venugopal\n"
     ]
    }
   ],
   "source": [
    "def function():\n",
    "    print(\"venugopal\")\n",
    "function()"
   ]
  },
  {
   "cell_type": "code",
   "execution_count": 13,
   "id": "6e6c69d4",
   "metadata": {},
   "outputs": [
    {
     "name": "stdout",
     "output_type": "stream",
     "text": [
      "email, refsnes\n",
      "venu, refsnes\n",
      "number, refsnes\n"
     ]
    }
   ],
   "source": [
    "def my_function(fname):\n",
    "    print(fname +\" \" +\"refsnes\")\n",
    "    \n",
    "my_function(\"email,\")\n",
    "my_function(\"venu,\")\n",
    "my_function(\"number,\")"
   ]
  },
  {
   "cell_type": "code",
   "execution_count": 12,
   "id": "2a82d0e4",
   "metadata": {},
   "outputs": [
    {
     "name": "stdout",
     "output_type": "stream",
     "text": [
      "emali resfsnes\n"
     ]
    }
   ],
   "source": [
    "def my_function(fname, lname):\n",
    "    print(fname +\" \"+ lname)\n",
    "my_function(\"emali\",  \"resfsnes\")\n",
    "    "
   ]
  },
  {
   "cell_type": "code",
   "execution_count": 14,
   "id": "ae97e4f9",
   "metadata": {},
   "outputs": [
    {
     "name": "stdout",
     "output_type": "stream",
     "text": [
      "the youngest child is linus\n"
     ]
    }
   ],
   "source": [
    "def my_function(*kids):\n",
    "    print(\"the youngest child is \"+ kids [2])\n",
    "my_function(\"emali\",\"tobias\",\"linus\")"
   ]
  },
  {
   "cell_type": "code",
   "execution_count": 19,
   "id": "6c9c44e2",
   "metadata": {},
   "outputs": [
    {
     "name": "stdout",
     "output_type": "stream",
     "text": [
      "His last name is refsnes\n"
     ]
    }
   ],
   "source": [
    "def my_function(**kid):\n",
    "    print(\"His last name is \" + kid[\"lname\"])\n",
    "    \n",
    "my_function(fname = \"tabias\", lname = \"refsnes\")"
   ]
  },
  {
   "cell_type": "code",
   "execution_count": 22,
   "id": "6c069995",
   "metadata": {},
   "outputs": [
    {
     "name": "stdout",
     "output_type": "stream",
     "text": [
      "i am from sweden\n",
      "i am from norway\n",
      "i am from india\n",
      "i am from brazil\n"
     ]
    }
   ],
   "source": [
    "def my_function(country = \"india\"):\n",
    "    print(\"i am from \" + country)\n",
    "my_function(\"sweden\")\n",
    "my_function(\"norway\")\n",
    "my_function()\n",
    "my_function(\"brazil\")\n"
   ]
  },
  {
   "cell_type": "code",
   "execution_count": 29,
   "id": "839c43a5",
   "metadata": {},
   "outputs": [
    {
     "name": "stdout",
     "output_type": "stream",
     "text": [
      "apple\n",
      "banana\n",
      "cherry\n"
     ]
    }
   ],
   "source": [
    "def my_function(food):\n",
    "    for x in food:\n",
    "      print(x)\n",
    "fruits = [\"apple\", \"banana\",\"cherry\"]\n",
    "my_function(fruits)"
   ]
  },
  {
   "cell_type": "code",
   "execution_count": 35,
   "id": "a3163f13",
   "metadata": {},
   "outputs": [
    {
     "name": "stdout",
     "output_type": "stream",
     "text": [
      "9\n",
      "27\n",
      "15\n"
     ]
    }
   ],
   "source": [
    "def my_function(x):\n",
    "  return 3 * x\n",
    "print(my_function(3))\n",
    "print(my_function(9))\n",
    "print(my_function(5))"
   ]
  },
  {
   "cell_type": "code",
   "execution_count": 40,
   "id": "4a05f558",
   "metadata": {},
   "outputs": [
    {
     "name": "stdout",
     "output_type": "stream",
     "text": [
      "9\n",
      "81\n",
      "25\n"
     ]
    }
   ],
   "source": [
    "def my_function(x):\n",
    "  return x * x\n",
    "print(my_function(3))\n",
    "print(my_function(9))\n",
    "print(my_function(5))"
   ]
  },
  {
   "cell_type": "code",
   "execution_count": 41,
   "id": "cc3b361e",
   "metadata": {},
   "outputs": [
    {
     "name": "stdout",
     "output_type": "stream",
     "text": [
      "3\n"
     ]
    }
   ],
   "source": [
    "def my_function(x, /):\n",
    "    print(x)\n",
    "my_function(3)"
   ]
  },
  {
   "cell_type": "code",
   "execution_count": 42,
   "id": "104f7bea",
   "metadata": {},
   "outputs": [
    {
     "name": "stdout",
     "output_type": "stream",
     "text": [
      "6\n"
     ]
    }
   ],
   "source": [
    "def my_function(x):\n",
    "    print(x)\n",
    "my_function(x = 6)"
   ]
  },
  {
   "cell_type": "code",
   "execution_count": 43,
   "id": "37819967",
   "metadata": {},
   "outputs": [
    {
     "data": {
      "text/plain": [
       "27"
      ]
     },
     "execution_count": 43,
     "metadata": {},
     "output_type": "execute_result"
    }
   ],
   "source": [
    "def my_function(*, x):\n",
    "    print(x)\n",
    "my_funtion(x = 9)"
   ]
  },
  {
   "cell_type": "code",
   "execution_count": 44,
   "id": "eace7c7c",
   "metadata": {},
   "outputs": [
    {
     "name": "stdout",
     "output_type": "stream",
     "text": [
      "22\n"
     ]
    }
   ],
   "source": [
    "def my_function(a,b, /,*, c, d):\n",
    "    print(a + b + c + d)\n",
    "my_function(3,5, c= 8,d = 6)"
   ]
  },
  {
   "cell_type": "code",
   "execution_count": 54,
   "id": "724b8bf4",
   "metadata": {},
   "outputs": [
    {
     "name": "stdout",
     "output_type": "stream",
     "text": [
      "\n",
      "\n",
      "recursion example results\n",
      "1\n",
      "3\n",
      "6\n",
      "10\n",
      "15\n",
      "21\n"
     ]
    },
    {
     "data": {
      "text/plain": [
       "21"
      ]
     },
     "execution_count": 54,
     "metadata": {},
     "output_type": "execute_result"
    }
   ],
   "source": [
    "def tri_recursion(k):\n",
    "    if(k > 0):\n",
    "        result = k + tri_recursion(k - 1)\n",
    "        print(result)\n",
    "    else:\n",
    "        result = 0\n",
    "    return result\n",
    "print(\"\\n\\nrecursion example results\")\n",
    "tri_recursion(6)"
   ]
  },
  {
   "cell_type": "code",
   "execution_count": 55,
   "id": "6f309897",
   "metadata": {},
   "outputs": [
    {
     "name": "stdout",
     "output_type": "stream",
     "text": [
      "15\n"
     ]
    }
   ],
   "source": [
    "x = lambda a : a + 10\n",
    "print(x(5))"
   ]
  },
  {
   "cell_type": "code",
   "execution_count": 58,
   "id": "40aa844d",
   "metadata": {},
   "outputs": [
    {
     "name": "stdout",
     "output_type": "stream",
     "text": [
      "13\n"
     ]
    }
   ],
   "source": [
    "x =lambda a,b,c : a + b + c\n",
    "print(x(2,4,7))"
   ]
  },
  {
   "cell_type": "code",
   "execution_count": null,
   "id": "d31e2585",
   "metadata": {},
   "outputs": [],
   "source": []
  },
  {
   "cell_type": "code",
   "execution_count": 56,
   "id": "47f054ae",
   "metadata": {},
   "outputs": [
    {
     "name": "stdout",
     "output_type": "stream",
     "text": [
      "27\n"
     ]
    }
   ],
   "source": [
    "x = lambda a ,b:  a * b\n",
    "print(x(3,9))"
   ]
  },
  {
   "cell_type": "code",
   "execution_count": 60,
   "id": "f0c4b23b",
   "metadata": {},
   "outputs": [
    {
     "name": "stdout",
     "output_type": "stream",
     "text": [
      "22\n"
     ]
    }
   ],
   "source": [
    "def myfunc(n):\n",
    "    return lambda a : a * n\n",
    "mydoubler = myfunc(2)\n",
    "print(mydoubler(11))"
   ]
  },
  {
   "cell_type": "code",
   "execution_count": 63,
   "id": "480b2fe6",
   "metadata": {},
   "outputs": [
    {
     "name": "stdout",
     "output_type": "stream",
     "text": [
      "99\n"
     ]
    }
   ],
   "source": [
    "def myfunc(n):\n",
    "    return lambda a : a * n\n",
    "mytripler = myfunc(9)\n",
    "print(mytripler(11))"
   ]
  },
  {
   "cell_type": "code",
   "execution_count": 66,
   "id": "a8c1e24c",
   "metadata": {},
   "outputs": [
    {
     "name": "stdout",
     "output_type": "stream",
     "text": [
      "88\n",
      "44\n"
     ]
    }
   ],
   "source": [
    "def myfunc(n):\n",
    "    return lambda a : a * n\n",
    "myduobler = myfunc(8)\n",
    "mytripler = myfunc(4)\n",
    "print(myduobler(11))\n",
    "print(mytripler(11))"
   ]
  },
  {
   "cell_type": "code",
   "execution_count": 80,
   "id": "90732edd",
   "metadata": {},
   "outputs": [
    {
     "name": "stdout",
     "output_type": "stream",
     "text": [
      "Even number\n",
      "Odd number\n",
      "Even number\n"
     ]
    }
   ],
   "source": [
    "def even_or_odd(n):\n",
    "    if n%2==0:\n",
    "        print(\"Even number\")\n",
    "    else:\n",
    "        print(\"Odd number\")\n",
    "even_or_odd(2)\n",
    "even_or_odd(3)\n",
    "even_or_odd(90)"
   ]
  },
  {
   "cell_type": "code",
   "execution_count": 89,
   "id": "b5f12260",
   "metadata": {},
   "outputs": [
    {
     "name": "stdout",
     "output_type": "stream",
     "text": [
      "9\n",
      "5\n"
     ]
    }
   ],
   "source": [
    "def mini(a,b,c):\n",
    "    if a<b and a<c:\n",
    "        print(a)\n",
    "    elif b<a and b<c:\n",
    "        print(b)\n",
    "    else:\n",
    "        print(c)\n",
    "mini(9,22,9) \n",
    "mini(34,5,23)\n"
   ]
  },
  {
   "cell_type": "code",
   "execution_count": 92,
   "id": "0a71be46",
   "metadata": {},
   "outputs": [
    {
     "name": "stdout",
     "output_type": "stream",
     "text": [
      "4\n",
      "5\n"
     ]
    }
   ],
   "source": [
    "def mixi(a,b,c):\n",
    "    if a<b and a<c:\n",
    "        print(a)\n",
    "    elif b<a and b<c:\n",
    "        print(b)\n",
    "    else:\n",
    "        print(c)\n",
    "mixi(4,7,9) \n",
    "mixi(34,5,23)"
   ]
  },
  {
   "cell_type": "code",
   "execution_count": 1,
   "id": "9ffb36bc",
   "metadata": {},
   "outputs": [
    {
     "name": "stdout",
     "output_type": "stream",
     "text": [
      "i am a good boy \n"
     ]
    }
   ],
   "source": [
    "def f():\n",
    "    s = \"i am a good boy \"\n",
    "    print(s)\n",
    "f()"
   ]
  },
  {
   "cell_type": "code",
   "execution_count": 2,
   "id": "7f129a79",
   "metadata": {},
   "outputs": [
    {
     "name": "stdout",
     "output_type": "stream",
     "text": [
      "inside function:  i love u python \n",
      " i love u python \n"
     ]
    }
   ],
   "source": [
    "def f():\n",
    "    s =\" i love u python \"\n",
    "    print(\"inside function:\", s )\n",
    "    print(s)\n",
    "f()"
   ]
  },
  {
   "cell_type": "code",
   "execution_count": 4,
   "id": "2d1a9d4e",
   "metadata": {},
   "outputs": [
    {
     "name": "stdout",
     "output_type": "stream",
     "text": [
      "me too,\n",
      "i love python \n"
     ]
    }
   ],
   "source": [
    "def f():\n",
    "    g =\"me too,\"\n",
    "    print(g)\n",
    "g = \"i love python \"\n",
    "f()\n",
    "print(g)"
   ]
  },
  {
   "cell_type": "code",
   "execution_count": 11,
   "id": "c245d6f7",
   "metadata": {},
   "outputs": [
    {
     "name": "stdout",
     "output_type": "stream",
     "text": [
      "look for python section\n",
      "i love pythongfg\n",
      "i love pythongfg\n"
     ]
    }
   ],
   "source": [
    "def f():\n",
    "    global s\n",
    "    s += 'gfg'\n",
    "    print(\"look for python section\")\n",
    "    print(s)\n",
    "s = \"i love python\"\n",
    "f()\n",
    "print(s)"
   ]
  },
  {
   "cell_type": "code",
   "execution_count": 21,
   "id": "9e8d0894",
   "metadata": {},
   "outputs": [
    {
     "name": "stdout",
     "output_type": "stream",
     "text": [
      "global : 2\n",
      "inside f() : 2\n",
      "global : 2\n",
      "inside g() : 5\n",
      "global : 2\n",
      "inside h(): 3\n",
      "global : 3\n"
     ]
    }
   ],
   "source": [
    "a = 2 \n",
    "\n",
    "# user global because there is  no local'a'\n",
    "\n",
    "def f():\n",
    "    print('inside f() :',a)\n",
    "    \n",
    "  # variable a is redefined as a lacal\n",
    "\n",
    "def g():\n",
    "    a =5\n",
    "    print('inside g() :',a)\n",
    "    \n",
    "#user global keyword to modify global 'a'\n",
    "\n",
    "def h():\n",
    "    global a\n",
    "    a = 3\n",
    "    print('inside h():',a)\n",
    "    \n",
    "    \n",
    " # global scope\n",
    "\n",
    "print('global :', a)\n",
    "f()\n",
    "print('global :', a)\n",
    "g()\n",
    "print('global :', a)\n",
    "h()\n",
    "print('global :', a)"
   ]
  },
  {
   "cell_type": "code",
   "execution_count": null,
   "id": "872c1e29",
   "metadata": {},
   "outputs": [],
   "source": []
  }
 ],
 "metadata": {
  "kernelspec": {
   "display_name": "Python 3 (ipykernel)",
   "language": "python",
   "name": "python3"
  },
  "language_info": {
   "codemirror_mode": {
    "name": "ipython",
    "version": 3
   },
   "file_extension": ".py",
   "mimetype": "text/x-python",
   "name": "python",
   "nbconvert_exporter": "python",
   "pygments_lexer": "ipython3",
   "version": "3.11.5"
  }
 },
 "nbformat": 4,
 "nbformat_minor": 5
}
