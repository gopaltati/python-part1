{
 "cells": [
  {
   "cell_type": "code",
   "execution_count": 1,
   "id": "5115d49b",
   "metadata": {},
   "outputs": [
    {
     "name": "stdout",
     "output_type": "stream",
     "text": [
      "(1, 2, 3, 4, 5)\n"
     ]
    }
   ],
   "source": [
    "# list python\n",
    "\n",
    "#  list\n",
    "my_list = (1,2,3,4,5,)\n",
    "print(my_list)"
   ]
  },
  {
   "cell_type": "code",
   "execution_count": 7,
   "id": "5087c13f",
   "metadata": {},
   "outputs": [
    {
     "name": "stdout",
     "output_type": "stream",
     "text": [
      "3\n",
      "2\n",
      "5\n",
      "4\n",
      "brama\n",
      "bhai\n",
      "nayana\n",
      "nila\n"
     ]
    }
   ],
   "source": [
    "# creating list with numbe\n",
    "list1 = (2,3,4,5,6,7)\n",
    "list1 = (7,3,4,9,6,7)\n",
    "list1 = (2,3,4,5,6,7)\n",
    "list1 = (2,3,4,5,6,7)\n",
    "\n",
    "print(list1[1])\n",
    "print(list1[0])\n",
    "print(list1[3])\n",
    "print(list1[2])\n",
    "\n",
    "#creating list with strings\n",
    "list1 = (\"mani\",\"nani\",\"mohan\",\"venu\",)\n",
    "list1 = (\"babai\",\"dada\",\"tani\",\"gopal\",)\n",
    "list1 = (\"rani\",\"raju\",\"banni\",\"ramya\",)\n",
    "list1 = (\"nayana\",\"brama\",\"nila\",\"bhai\",)\n",
    "\n",
    "print(list1[1])\n",
    "print(list1[-1])\n",
    "print(list1[0])\n",
    "print(list1[2])\n"
   ]
  },
  {
   "cell_type": "code",
   "execution_count": 12,
   "id": "afe49abf",
   "metadata": {},
   "outputs": [
    {
     "name": "stdout",
     "output_type": "stream",
     "text": [
      "(3, 4, 5)\n",
      "[6, 7]\n",
      "[6, 7, 8]\n",
      "[9, 0, 5]\n",
      "('mani', 'nani', 'mohan')\n",
      "('dada',)\n",
      "('raju', 'banni')\n",
      "('nayana',)\n"
     ]
    }
   ],
   "source": [
    "# slicing (numbers)\n",
    "\n",
    "list1 = (2,3,4,5,6,7)\n",
    "list2 = (7,3,4,9,6,7)\n",
    "list3 = (2,3,4,5,6,7)\n",
    "list4 = (2,3,4,5,6,7)\n",
    "\n",
    "print(list1[1:4])\n",
    "print(list2[0:2])\n",
    "print(list3[3:])\n",
    "print(list4[2:5])\n",
    "\n",
    "# slicing (strings)\n",
    "batch_1 = (\"mani\",\"nani\",\"mohan\",\"venu\",)\n",
    "batch_2 = (\"babai\",\"dada\",\"tani\",\"gopal\",)\n",
    "batch_3 = (\"rani\",\"raju\",\"banni\",\"ramya\",)\n",
    "batch_4 = (\"nayana\",\"brama\",\"nila\",\"bhai\",)\n",
    "\n",
    "print(batch_1[0:3])\n",
    "print(batch_2[1:2])\n",
    "print(batch_3[-3:3])\n",
    "print(batch_4[0:1])\n"
   ]
  },
  {
   "cell_type": "code",
   "execution_count": 19,
   "id": "92d129a2",
   "metadata": {},
   "outputs": [
    {
     "name": "stdout",
     "output_type": "stream",
     "text": [
      "(2, 3, 4, 5, 6, 7, 2, 3, 4, 5, 6, 7)\n",
      "(7, 3, 4, 9, 6, 7, 2, 3, 4, 5, 6, 7)\n",
      "('mani', 'nani', 'mohan', 'venu', 'nayana', 'brama', 'nila', 'bhai')\n",
      "('babai', 'dada', 'tani', 'gopal', 'rani', 'raju', 'banni', 'ramya')\n"
     ]
    }
   ],
   "source": [
    "# list opertion\n",
    "\n",
    "# concatenation \n",
    "\n",
    "# number\n",
    "\n",
    "list1 = (2,3,4,5,6,7)\n",
    "list2 = (7,3,4,9,6,7)\n",
    "list3 = (2,3,4,5,6,7)\n",
    "list4 = (2,3,4,5,6,7)\n",
    "\n",
    "# strings \n",
    "\n",
    "batch_1 = (\"mani\",\"nani\",\"mohan\",\"venu\",)\n",
    "batch_2 = (\"babai\",\"dada\",\"tani\",\"gopal\",)\n",
    "batch_3 = (\"rani\",\"raju\",\"banni\",\"ramya\",)\n",
    "batch_4 = (\"nayana\",\"brama\",\"nila\",\"bhai\")\n",
    "\n",
    "print(list1 + list3)\n",
    "print(list2 + list4)\n",
    "print(batch_1 + batch_4)\n",
    "print(batch_2 + batch_3)\n"
   ]
  },
  {
   "cell_type": "code",
   "execution_count": 20,
   "id": "7ed9cc13",
   "metadata": {},
   "outputs": [
    {
     "name": "stdout",
     "output_type": "stream",
     "text": [
      "(2, 3, 4, 5, 6, 7, 2, 3, 4, 5, 6, 7, 2, 3, 4, 5, 6, 7)\n",
      "(7, 3, 4, 9, 6, 7, 7, 3, 4, 9, 6, 7)\n",
      "(2, 3, 4, 5, 6, 7, 2, 3, 4, 5, 6, 7, 2, 3, 4, 5, 6, 7, 2, 3, 4, 5, 6, 7)\n",
      "(2, 3, 4, 5, 6, 7)\n",
      "('mani', 'nani', 'mohan', 'venu', 'mani', 'nani', 'mohan', 'venu', 'mani', 'nani', 'mohan', 'venu')\n",
      "('babai', 'dada', 'tani', 'gopal', 'babai', 'dada', 'tani', 'gopal')\n",
      "('rani', 'raju', 'banni', 'ramya', 'rani', 'raju', 'banni', 'ramya', 'rani', 'raju', 'banni', 'ramya', 'rani', 'raju', 'banni', 'ramya')\n",
      "('nayana', 'brama', 'nila', 'bhai')\n"
     ]
    }
   ],
   "source": [
    "# repetition number \n",
    "\n",
    "list1 = (2,3,4,5,6,7)\n",
    "list2 = (7,3,4,9,6,7)\n",
    "list3 = (2,3,4,5,6,7)\n",
    "list4 = (2,3,4,5,6,7)\n",
    "\n",
    "print(list1 * 3)\n",
    "print(list2 * 2)\n",
    "print(list3 * 4)\n",
    "print(list4 * 1)\n",
    "\n",
    "# repetition (strings)\n",
    "batch_1 = (\"mani\",\"nani\",\"mohan\",\"venu\",)\n",
    "batch_2 = (\"babai\",\"dada\",\"tani\",\"gopal\",)\n",
    "batch_3 = (\"rani\",\"raju\",\"banni\",\"ramya\",)\n",
    "batch_4 = (\"nayana\",\"brama\",\"nila\",\"bhai\",)\n",
    "\n",
    "print(batch_1 * 3)\n",
    "print(batch_2 * 2)\n",
    "print(batch_3 * 4)\n",
    "print(batch_4 * 1)"
   ]
  },
  {
   "cell_type": "code",
   "execution_count": 35,
   "id": "30341832",
   "metadata": {},
   "outputs": [
    {
     "name": "stdout",
     "output_type": "stream",
     "text": [
      "[2, 3, 4, 5, 6, 78, 9, 10, 11]\n",
      "[7, 3, 4, 9, 6, 7, 15]\n",
      "['mani', 'nani', 'mohan', 'venu', 'maran']\n",
      "['babai', 'dada', 'tani', 'gopal', 'nani']\n"
     ]
    }
   ],
   "source": [
    "# methods\n",
    "# 1 append()\n",
    "\n",
    "list_1 = [2,3,4,5,6,78,9,10]\n",
    "list_1.append(11)\n",
    "print(list_1)\n",
    "\n",
    "list_2 = [7,3,4,9,6,7]\n",
    "list_2.append(15)\n",
    "print(list_2)\n",
    "\n",
    "batch_1 = [\"mani\",\"nani\",\"mohan\",\"venu\",]\n",
    "batch_1.append(\"maran\")\n",
    "print(batch_1)\n",
    "\n",
    "batch_2 = [\"babai\",\"dada\",\"tani\",\"gopal\",]\n",
    "batch_2.append(\"nani\")\n",
    "print(batch_2)\n"
   ]
  },
  {
   "cell_type": "code",
   "execution_count": 56,
   "id": "dd690891",
   "metadata": {},
   "outputs": [
    {
     "name": "stdout",
     "output_type": "stream",
     "text": [
      "[2, 3, 4, 5, 6, 7, 10, 123, 145]\n",
      "[2, 3, 4, 5, 6, 7, 10, 123, 145]\n",
      "['rani', 'raju', 'banni', 'ramya', 'gani', 'mahi', 'ravi']\n",
      "['nayana', 'brama', 'nila', 'bhai', 'gani', 'mahi', 'ravi']\n"
     ]
    }
   ],
   "source": [
    "# extend()\n",
    "# number\n",
    "list3 = [2,3,4,5,6,7]\n",
    "more_numbers = (10,123,145)\n",
    "list3.extend(more_numbers)\n",
    "print(list3)\n",
    "\n",
    "list4 = [2,3,4,5,6,7]\n",
    "more_numbers = (10,123,145)\n",
    "list4.extend(more_numbers)\n",
    "print(list4)\n",
    "\n",
    "#string\n",
    "\n",
    "batch_3 = [\"rani\",\"raju\",\"banni\",\"ramya\",]\n",
    "more_names = (\"gani\",\"mahi\",\"ravi\")\n",
    "batch_3.extend(more_names)\n",
    "print(batch_3)\n",
    "\n",
    "batch_4 = [\"nayana\",\"brama\",\"nila\",\"bhai\",]\n",
    "more_names = (\"gani\",\"mahi\",\"ravi\")\n",
    "batch_4.extend(more_names)\n",
    "print(batch_4)"
   ]
  },
  {
   "cell_type": "code",
   "execution_count": 70,
   "id": "0743c572",
   "metadata": {},
   "outputs": [
    {
     "name": "stdout",
     "output_type": "stream",
     "text": [
      "[2, 3, 4, 5, 7, 6, 7]\n",
      "[7, 3, 4, 9, 6, 7, 9]\n",
      "[2, 3, 4, 5, 6, 7, 99]\n",
      "[2, 3, 4, 5, 6, 8, 77]\n",
      "['mani', 'nani', 'mohan', 'venu', 'ravi']\n",
      "['babai', 'dada', 'tani', 'gopal', 'siva']\n",
      "['rani', 'raju', 'banni', 'ramya', 'vovi']\n",
      "['nayana', 'brama', 'nila', 'bhai', 'vivo']\n"
     ]
    }
   ],
   "source": [
    "# insert\n",
    "# number\n",
    "\n",
    "list1 = [2,3,4,5,6,7]\n",
    "list2 = [7,3,4,9,6,7]\n",
    "list3 = [2,3,4,5,6,7]\n",
    "list4 = [2,3,4,5,6,8]\n",
    "\n",
    "list1.insert(4,7)\n",
    "print(list1)\n",
    "list2.insert(8,9)\n",
    "print(list2)\n",
    "list3.insert(88,99)\n",
    "print(list3)\n",
    "list4.insert(99,77)\n",
    "print(list4)\n",
    "\n",
    "\n",
    "#  (strings)\n",
    "\n",
    "batch_1 = [\"mani\",\"nani\",\"mohan\",\"venu\",]\n",
    "batch_2 = [\"babai\",\"dada\",\"tani\",\"gopal\",]\n",
    "batch_3 = [\"rani\",\"raju\",\"banni\",\"ramya\",]\n",
    "batch_4 = [\"nayana\",\"brama\",\"nila\",\"bhai\",]\n",
    "\n",
    "batch_1.insert( 5,\"ravi\")\n",
    "print(batch_1)          \n",
    "batch_2.insert( 9,\"siva\")\n",
    "print(batch_2)         \n",
    "batch_3.insert( 7,\"vovi\")\n",
    "print(batch_3)        \n",
    "batch_4.insert( 6,\"vivo\")\n",
    "print(batch_4)\n"
   ]
  },
  {
   "cell_type": "code",
   "execution_count": 74,
   "id": "0bbaeeaa",
   "metadata": {},
   "outputs": [
    {
     "name": "stdout",
     "output_type": "stream",
     "text": [
      "[2, 3, 5, 6, 7]\n",
      "[3, 4, 9, 6, 7]\n",
      "[2, 3, 4, 5, 7]\n",
      "[2, 3, 4, 5, 6]\n",
      "['mani', 'nani', 'mohan']\n",
      "['babai', 'tani', 'gopal']\n",
      "['raju', 'banni', 'ramya']\n",
      "['nayana', 'brama', 'bhai']\n"
     ]
    }
   ],
   "source": [
    "# removes\n",
    "\n",
    "# numbers\n",
    "\n",
    "list1 = [2,3,4,5,6,7]\n",
    "list2 = [7,3,4,9,6,7]\n",
    "list3 = [2,3,4,5,6,7]\n",
    "list4 = [2,3,4,5,6,8]\n",
    "\n",
    "list1.remove(4)\n",
    "print(list1)\n",
    "list2.remove(7)\n",
    "print(list2)\n",
    "list3.remove(6)\n",
    "print(list3)\n",
    "list4.remove(8)\n",
    "print(list4)\n",
    "\n",
    "\n",
    "#  (strings)\n",
    "\n",
    "batch_1 = [\"mani\",\"nani\",\"mohan\",\"venu\",]\n",
    "batch_2 = [\"babai\",\"dada\",\"tani\",\"gopal\",]\n",
    "batch_3 = [\"rani\",\"raju\",\"banni\",\"ramya\",]\n",
    "batch_4 = [\"nayana\",\"brama\",\"nila\",\"bhai\",]\n",
    "\n",
    "batch_1.remove( \"venu\")\n",
    "print(batch_1)          \n",
    "batch_2.remove( \"dada\")\n",
    "print(batch_2)         \n",
    "batch_3.remove( \"rani\")\n",
    "print(batch_3)        \n",
    "batch_4.remove( \"nila\")\n",
    "print(batch_4)"
   ]
  },
  {
   "cell_type": "code",
   "execution_count": 81,
   "id": "85a4f9e3",
   "metadata": {},
   "outputs": [
    {
     "name": "stdout",
     "output_type": "stream",
     "text": [
      "[2, 3, 5, 6, 7]\n",
      "4\n",
      "[7, 3, 9, 6, 7]\n",
      "4\n",
      "[2, 3, 5, 6, 8]\n",
      "4\n",
      "[2, 3, 5, 6, 7]\n",
      "4\n",
      "['nani', 'mohan', 'venu']\n",
      "mani\n",
      "['babai', 'dada', 'gopal']\n",
      "tani\n",
      "['rani', 'banni', 'ramya']\n",
      "raju\n",
      "['nayana', 'brama', 'nila']\n",
      "bhai\n"
     ]
    }
   ],
   "source": [
    "#pop\n",
    "\n",
    "# numbers\n",
    "\n",
    "list1 = [2,3,4,5,6,7]\n",
    "list2 = [7,3,4,9,6,7]\n",
    "list3 = [2,3,4,5,6,7]\n",
    "list4 = [2,3,4,5,6,8]\n",
    "poped_element = list1.pop(2)\n",
    "print(list1)\n",
    "print(poped_element)\n",
    "\n",
    "poped_element = list2.pop(2)\n",
    "print(list2)\n",
    "print(poped_element)\n",
    "\n",
    "poped_element = list4.pop(2)\n",
    "print(list4)\n",
    "print(poped_element)\n",
    "\n",
    "poped_element = list3.pop(2)\n",
    "print(list3)\n",
    "print(poped_element)\n",
    "\n",
    "\n",
    "#  (strings)\n",
    "\n",
    "batch_1 = [\"mani\",\"nani\",\"mohan\",\"venu\",]\n",
    "batch_2 = [\"babai\",\"dada\",\"tani\",\"gopal\",]\n",
    "batch_3 = [\"rani\",\"raju\",\"banni\",\"ramya\",]\n",
    "batch_4 = [\"nayana\",\"brama\",\"nila\",\"bhai\",]\n",
    "\n",
    "poped_element = batch_1.pop(0)\n",
    "print(batch_1)\n",
    "print(poped_element)\n",
    "\n",
    "poped_element = batch_2.pop(2)\n",
    "print(batch_2)\n",
    "print(poped_element)\n",
    "\n",
    "poped_element = batch_3.pop(1)\n",
    "print(batch_3)\n",
    "print(poped_element)\n",
    "\n",
    "poped_element = batch_4.pop(-1)\n",
    "print(batch_4)\n",
    "print(poped_element)\n",
    "\n",
    "\n"
   ]
  },
  {
   "cell_type": "code",
   "execution_count": 88,
   "id": "5375ec9f",
   "metadata": {},
   "outputs": [
    {
     "name": "stdout",
     "output_type": "stream",
     "text": [
      "9\n",
      "0\n",
      "0\n",
      "3\n"
     ]
    }
   ],
   "source": [
    "# index\n",
    "list1  = [1,2,3,4,5,6,7,8,9,10]\n",
    "list2  = [11,22,33,44,55,77,66,99]\n",
    "index = list1.index(10)\n",
    "print(index)\n",
    "\n",
    "index = list2.index(11)\n",
    "print(index)\n",
    "\n",
    "\n",
    "bacth_1 = [\"venu\", \"nani\", \" mohan\",\"kavya\"]\n",
    "batch_2 = [\"mani\",\"nani\",\"kavya\",\"venu\"]\n",
    "\n",
    "index = batch_1.index(\"nani\")\n",
    "print(index)\n",
    "\n",
    "index = batch_2.index(\"venu\")\n",
    "print(index)\n"
   ]
  },
  {
   "cell_type": "code",
   "execution_count": 98,
   "id": "7804469b",
   "metadata": {},
   "outputs": [
    {
     "name": "stdout",
     "output_type": "stream",
     "text": [
      "1\n",
      "1\n",
      "0\n",
      "1\n"
     ]
    }
   ],
   "source": [
    "list1  = [1,2,3,4,5,6,7,8,9,10]\n",
    "list2  = [11,22,33,44,55,77,66,99]\n",
    "\n",
    "count = list1.count(9)\n",
    "print(count)\n",
    "\n",
    "count = list2.count(44)\n",
    "print(count)\n",
    "\n",
    "\n",
    "bacth_1 = [\"venu\", \"nani\", \" mohan\",\"kavya\"]\n",
    "batch_2 = [\"mani\",\"nani\",\"kavya\",\"venu\"]\n",
    "\n",
    "count = batch_1.count(\"kavya\")\n",
    "print(count)\n",
    "\n",
    "count = batch_2.count(\"venu\")\n",
    "print(count)\n"
   ]
  },
  {
   "cell_type": "code",
   "execution_count": 107,
   "id": "537dda87",
   "metadata": {},
   "outputs": [
    {
     "name": "stdout",
     "output_type": "stream",
     "text": [
      "[0, 2, 3, 4, 5, 6, 7, 8, 9]\n",
      "[0, 8, 7, 6, 5, 4, 44, 33]\n",
      "['laala', 'rao', 'ravi', 'vasu']\n",
      "['dada', 'gharani', 'hami', 'mahi']\n"
     ]
    }
   ],
   "source": [
    "# sort\n",
    "# numbers\n",
    "\n",
    "list1 = [9,0,8,7,6,5,4,3,2,]\n",
    "list1.sort()\n",
    "print(list1)\n",
    "\n",
    "\n",
    "list2 = [0,8,7,6,5,4,44,33,]\n",
    "list1.sort()\n",
    "print(list2)\n",
    "# string\n",
    "\n",
    "batch_1 = [\"vasu\",\"ravi\",\"rao\",\"laala\"]\n",
    "batch_2 = [\"hami\",\"mahi\",\"gharani\",\"dada\"]\n",
    "batch_1.sort()\n",
    "batch_2.sort()\n",
    "print(batch_1)\n",
    "print(batch_2)\n",
    "\n",
    "\n"
   ]
  },
  {
   "cell_type": "code",
   "execution_count": 110,
   "id": "a3286b03",
   "metadata": {},
   "outputs": [
    {
     "name": "stdout",
     "output_type": "stream",
     "text": [
      "[10, 9, 8, 7, 6, 5, 4, 3, 2, 1]\n",
      "[6, 45, 67, 80, 899, 77, 44]\n",
      "['laala', 'rao', 'ravi', 'vasu']\n",
      "['dada', 'gharani', 'mahi', 'hami']\n"
     ]
    }
   ],
   "source": [
    "# reverse\n",
    "list1 = [1,2,3,4,5,6,7,8,9,10]\n",
    "list2 = [44,77,899,80,67,45,6]\n",
    "\n",
    "list1.reverse()\n",
    "print(list1)\n",
    "list2.reverse()\n",
    "print(list2)\n",
    "\n",
    "batch_1 = [\"vasu\",\"ravi\",\"rao\",\"laala\"]\n",
    "batch_2 = [\"hami\",\"mahi\",\"gharani\",\"dada\"]\n",
    "batch_1.reverse()\n",
    "batch_2.reverse()\n",
    "\n",
    "print(batch_1)\n",
    "print(batch_2)\n",
    "\n",
    "\n",
    "\n",
    "\n"
   ]
  },
  {
   "cell_type": "code",
   "execution_count": null,
   "id": "096af5fb",
   "metadata": {},
   "outputs": [],
   "source": [
    "\n"
   ]
  },
  {
   "cell_type": "code",
   "execution_count": null,
   "id": "9364149f",
   "metadata": {},
   "outputs": [],
   "source": []
  }
 ],
 "metadata": {
  "kernelspec": {
   "display_name": "Python 3 (ipykernel)",
   "language": "python",
   "name": "python3"
  },
  "language_info": {
   "codemirror_mode": {
    "name": "ipython",
    "version": 3
   },
   "file_extension": ".py",
   "mimetype": "text/x-python",
   "name": "python",
   "nbconvert_exporter": "python",
   "pygments_lexer": "ipython3",
   "version": "3.11.5"
  }
 },
 "nbformat": 4,
 "nbformat_minor": 5
}
