{
 "cells": [
  {
   "cell_type": "code",
   "execution_count": 5,
   "id": "c7c57c5a",
   "metadata": {},
   "outputs": [
    {
     "name": "stdout",
     "output_type": "stream",
     "text": [
      "enter your marks:146\n",
      "out of range\n"
     ]
    }
   ],
   "source": [
    "# if statment,# else statement,# elif statment\n",
    "\n",
    "# marks <35--- fail,  40-60----avg marks,   61-80---fristclass,  81-100---topper\n",
    "\n",
    "marks = int(input(\"enter your marks:\"))\n",
    "#range ---0-40 madhayala\n",
    "if  0<=marks<40:\n",
    "    print(\"fail\")\n",
    "elif 40<=marks<60:\n",
    "    print(\"avg marks\")\n",
    "elif 60<=marks<80:\n",
    "    print(\"frist class\")\n",
    "elif 80<=marks<101:\n",
    "    print(\"topper\")\n",
    "else: \n",
    "    print(\"out of range\")\n",
    "    "
   ]
  },
  {
   "cell_type": "code",
   "execution_count": 31,
   "id": "711c19bb",
   "metadata": {},
   "outputs": [
    {
     "name": "stdout",
     "output_type": "stream",
     "text": [
      "enter your ages:-18\n",
      "not eligible for the vote\n"
     ]
    }
   ],
   "source": [
    "# seperation of ages eligible  of   vote\n",
    "ages =int(input(\"enter your ages:\"))\n",
    "if ages>=18:\n",
    "    print(\" eligible for vote\")\n",
    "elif 18<=ages<20:\n",
    "     print(\"eligible for the vote\")\n",
    "elif 20<=ages<30:\n",
    "    print(\"eligible for the vote\")\n",
    "elif 30<=ages<40:\n",
    "    print(\"eligible for the vote\")\n",
    "elif 40<=ages<50:\n",
    "    print(\"eligible for the vote\")\n",
    "elif 50<=ages<60:\n",
    "    print(\"eligible for the vote\")\n",
    "elif 60<=ages<70:\n",
    "    print(\"eligible for the vote\")\n",
    "elif 70<=ages<80:\n",
    "    print(\"eligible for the vote\")\n",
    "elif 80<=ages<90:\n",
    "    print(\"eligible for the vote\")\n",
    "elif 90<=ages<100:\n",
    "    print(\"eligible for the vote\")\n",
    "elif 110<=ages<120:\n",
    "    print(\"eligible for the vote\")\n",
    "elif 120<=ages<130:\n",
    "    print(\"eligible for the vote\")\n",
    "elif 130<=ages<140:\n",
    "    print(\"eligible for the vote\")\n",
    "elif 140<=ages<200:\n",
    "    print(\"eligible for the vote\")\n",
    "else:\n",
    "    print(\"not eligible for the vote\")"
   ]
  },
  {
   "cell_type": "code",
   "execution_count": 34,
   "id": "9c1736ac",
   "metadata": {},
   "outputs": [
    {
     "name": "stdout",
     "output_type": "stream",
     "text": [
      "1.mango\n",
      "2.cherry\n",
      "3.banana\n",
      "4.apple\n",
      "enter fruit number:4\n",
      "enter your amount:300\n",
      "you will get 12 aplle\n"
     ]
    }
   ],
   "source": [
    "# mongoes, cherry,banana,apple,\n",
    "\n",
    "mango = 20\n",
    "cherry = 6\n",
    "banana = 12\n",
    "apple = 25\n",
    "print(\"1.mango\")\n",
    "print(\"2.cherry\")\n",
    "print(\"3.banana\")\n",
    "print(\"4.apple\")\n",
    "fruit = int(input(\"enter fruit number:\"))\n",
    "total_amount = int(input(\"enter your amount:\"))\n",
    "count =0\n",
    "\n",
    "if fruit==1:\n",
    "    count = otal_amount//mango\n",
    "    print(\"you get\",count,\"apple\")\n",
    "elif fruit==2:\n",
    "    count = total_amount//cherry\n",
    "    print(\"you will get\",count,\"cherry\")\n",
    "       \n",
    "elif fruit==3:\n",
    "    count = total_amount//banana\n",
    "    print(\"you will get\",count,\"banana\")\n",
    "        \n",
    "elif fruit==4:\n",
    "    count = total_amount//apple\n",
    "    print(\"you will get\",count,\"aplle\")\n",
    "    \n",
    "else:\n",
    "    print(\"wrong friut option\")\n",
    "    "
   ]
  },
  {
   "cell_type": "code",
   "execution_count": 116,
   "id": "46e4769f",
   "metadata": {},
   "outputs": [
    {
     "name": "stdout",
     "output_type": "stream",
     "text": [
      "Enter your PIN number:12345\n",
      "welcome to prompt eng bank\n",
      "1.balance\n",
      "2.deposite\n",
      "3.withdraw\n",
      "4.help\n",
      "enter yuor option:3\n",
      "your current balance is: 50000\n",
      "enter yuor withdraw amount:600\n",
      "your updated balance is: 49400\n"
     ]
    }
   ],
   "source": [
    "# ATM coding...\n",
    "# balance eng...\n",
    "# deposite...\n",
    "# withdraw....\n",
    "# help....\n",
    "pin = int(input(\"Enter your PIN number:\"))\n",
    "balance = 50000\n",
    "if pin == 12345:\n",
    "    print(\"welcome to prompt eng bank\")\n",
    "    print(\"1.balance\")\n",
    "    print(\"2.deposite\")\n",
    "    print(\"3.withdraw\")\n",
    "    print(\"4.help\")\n",
    "    option = int(input(\"enter yuor option:\"))\n",
    "    if option ==1:\n",
    "         print(\"your balance is:\",balance,\"RS/-\")\n",
    "    elif option ==2:\n",
    "        dep = int(input(\"enter your deposite:\"))\n",
    "        balance = balance+deposite #50000+20000=70000\n",
    "        print(\"your updated balance is:\",balance)      \n",
    "    elif option ==3:\n",
    "        print(\"your current balance is:\",balance)\n",
    "        withdraw = int(input(\"enter yuor withdraw amount:\")) #8000    \n",
    "        if withdraw<=balance:\n",
    "            balance = balance- withdraw\n",
    "            print(\"your updated balance is:\",balance)\n",
    "        else:\n",
    "            print(\"insufficient balance\")\n",
    "              \n",
    "    elif option==4:\n",
    "        print(\"contact us at aibank@gmail.com\")    \n",
    "            \n",
    "    else: \n",
    "        print(\"wrong option\")\n",
    "else:\n",
    "    print(\"wrong pin\")\n",
    "              \n",
    "              \n",
    "              \n",
    "              \n",
    "              \n",
    "              \n",
    "              \n",
    "              "
   ]
  },
  {
   "cell_type": "code",
   "execution_count": null,
   "id": "8260b227",
   "metadata": {},
   "outputs": [],
   "source": []
  },
  {
   "cell_type": "code",
   "execution_count": null,
   "id": "cc2bf755",
   "metadata": {},
   "outputs": [],
   "source": []
  },
  {
   "cell_type": "code",
   "execution_count": null,
   "id": "f8833ee8",
   "metadata": {},
   "outputs": [],
   "source": []
  },
  {
   "cell_type": "code",
   "execution_count": null,
   "id": "59c19724",
   "metadata": {},
   "outputs": [],
   "source": []
  },
  {
   "cell_type": "code",
   "execution_count": null,
   "id": "e45d86e7",
   "metadata": {},
   "outputs": [],
   "source": []
  },
  {
   "cell_type": "code",
   "execution_count": null,
   "id": "1c885082",
   "metadata": {},
   "outputs": [],
   "source": []
  },
  {
   "cell_type": "code",
   "execution_count": null,
   "id": "0d694278",
   "metadata": {},
   "outputs": [],
   "source": []
  },
  {
   "cell_type": "code",
   "execution_count": null,
   "id": "0643344a",
   "metadata": {},
   "outputs": [],
   "source": []
  }
 ],
 "metadata": {
  "kernelspec": {
   "display_name": "Python 3 (ipykernel)",
   "language": "python",
   "name": "python3"
  },
  "language_info": {
   "codemirror_mode": {
    "name": "ipython",
    "version": 3
   },
   "file_extension": ".py",
   "mimetype": "text/x-python",
   "name": "python",
   "nbconvert_exporter": "python",
   "pygments_lexer": "ipython3",
   "version": "3.11.5"
  }
 },
 "nbformat": 4,
 "nbformat_minor": 5
}
